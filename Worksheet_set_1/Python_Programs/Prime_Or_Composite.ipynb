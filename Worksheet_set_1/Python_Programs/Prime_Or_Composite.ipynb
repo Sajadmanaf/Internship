{
 "cells": [
  {
   "cell_type": "code",
   "execution_count": 21,
   "id": "77bb2aba",
   "metadata": {},
   "outputs": [
    {
     "name": "stdout",
     "output_type": "stream",
     "text": [
      "Enter a number 293\n",
      "Prime number\n"
     ]
    }
   ],
   "source": [
    "n = int(input(\"Enter a number \"))\n",
    "p=0\n",
    "for i in range(1,n+1):\n",
    "    if n%i ==0:\n",
    "        p=p+1  \n",
    "if n == 0 or n==1:\n",
    "    print('Neither a prime or composite number')\n",
    "elif p==2:\n",
    "    print('Prime number')\n",
    "else:\n",
    "    print('composite number')"
   ]
  },
  {
   "cell_type": "code",
   "execution_count": null,
   "id": "db14df1f",
   "metadata": {},
   "outputs": [],
   "source": []
  },
  {
   "cell_type": "code",
   "execution_count": null,
   "id": "f589e5fb",
   "metadata": {},
   "outputs": [],
   "source": []
  }
 ],
 "metadata": {
  "kernelspec": {
   "display_name": "Python 3 (ipykernel)",
   "language": "python",
   "name": "python3"
  },
  "language_info": {
   "codemirror_mode": {
    "name": "ipython",
    "version": 3
   },
   "file_extension": ".py",
   "mimetype": "text/x-python",
   "name": "python",
   "nbconvert_exporter": "python",
   "pygments_lexer": "ipython3",
   "version": "3.9.12"
  }
 },
 "nbformat": 4,
 "nbformat_minor": 5
}
