{
 "cells": [
  {
   "cell_type": "code",
   "execution_count": 30,
   "id": "d2ed7392",
   "metadata": {},
   "outputs": [
    {
     "name": "stdout",
     "output_type": "stream",
     "text": [
      "Input a number : 8\n",
      "Factorial of  8  is  40320\n"
     ]
    }
   ],
   "source": [
    "n=int(input('Input a number : '))\n",
    "\n",
    "if n<0:\n",
    "    print('Factorial of negative numbers are complex or not defined')\n",
    "elif n==0 or n==1:\n",
    "    print('Factorial of ',n,' is ',1)\n",
    "else:\n",
    "    def factorial(num):\n",
    "        fact=1\n",
    "        for i in range(num,0,-1):\n",
    "            fact=fact*i\n",
    "        return(fact)\n",
    "    print('Factorial of ',n,' is ', factorial(n))"
   ]
  },
  {
   "cell_type": "code",
   "execution_count": null,
   "id": "c4a6d604",
   "metadata": {},
   "outputs": [],
   "source": []
  },
  {
   "cell_type": "code",
   "execution_count": null,
   "id": "66d34c19",
   "metadata": {},
   "outputs": [],
   "source": []
  }
 ],
 "metadata": {
  "kernelspec": {
   "display_name": "Python 3 (ipykernel)",
   "language": "python",
   "name": "python3"
  },
  "language_info": {
   "codemirror_mode": {
    "name": "ipython",
    "version": 3
   },
   "file_extension": ".py",
   "mimetype": "text/x-python",
   "name": "python",
   "nbconvert_exporter": "python",
   "pygments_lexer": "ipython3",
   "version": "3.9.12"
  }
 },
 "nbformat": 4,
 "nbformat_minor": 5
}
