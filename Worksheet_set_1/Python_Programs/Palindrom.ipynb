{
 "cells": [
  {
   "cell_type": "code",
   "execution_count": 9,
   "id": "cfb1e9f4",
   "metadata": {},
   "outputs": [
    {
     "name": "stdout",
     "output_type": "stream",
     "text": [
      "Enter a string: Malayalam\n",
      "Palindrom String\n"
     ]
    }
   ],
   "source": [
    "str=input('Enter a string: ').lower()\n",
    "#str=str.lower()\n",
    "\n",
    "def isPalindrom(s):\n",
    "    return str==str[::-1]\n",
    "\n",
    "a=isPalindrom(str)\n",
    "\n",
    "if a==True:\n",
    "    print('Palindrom String')\n",
    "else:\n",
    "    print('Not a Palindrom string')"
   ]
  },
  {
   "cell_type": "code",
   "execution_count": null,
   "id": "ad71b0ef",
   "metadata": {},
   "outputs": [],
   "source": []
  },
  {
   "cell_type": "code",
   "execution_count": null,
   "id": "40ba2e30",
   "metadata": {},
   "outputs": [],
   "source": []
  }
 ],
 "metadata": {
  "kernelspec": {
   "display_name": "Python 3 (ipykernel)",
   "language": "python",
   "name": "python3"
  },
  "language_info": {
   "codemirror_mode": {
    "name": "ipython",
    "version": 3
   },
   "file_extension": ".py",
   "mimetype": "text/x-python",
   "name": "python",
   "nbconvert_exporter": "python",
   "pygments_lexer": "ipython3",
   "version": "3.9.12"
  }
 },
 "nbformat": 4,
 "nbformat_minor": 5
}
