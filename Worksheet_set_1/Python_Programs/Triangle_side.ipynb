{
 "cells": [
  {
   "cell_type": "code",
   "execution_count": 11,
   "id": "e446017f",
   "metadata": {},
   "outputs": [
    {
     "name": "stdout",
     "output_type": "stream",
     "text": [
      "Kindly enter the side of the right angled triangle to be calculated : base, altitude or hypotenusebase\n",
      "Enter the Altitude : 23\n",
      "Enter the hypotenuse : 44\n",
      "base side is :  37.5099986670221\n"
     ]
    }
   ],
   "source": [
    "def side_Of_Triangle(base,altitude,hypotenuse):\n",
    "    if base == 0:\n",
    "        print('base side is : ', str(((hypotenuse**2)-(altitude**2))**0.5))\n",
    "    elif altitude ==0:\n",
    "        print('base side is : ',str(((hypotenuse**2)-(base**2))**0.5 ))\n",
    "    elif hypotenuse ==0:\n",
    "        print('hypotenuse is : ', str(((base**2)+(altitude**2))**0.5 ))\n",
    "        \n",
    "x = input('Kindly enter the side of the right angled triangle to be calculated : base, altitude or hypotenuse')\n",
    "\n",
    "if x== 'base':\n",
    "    altitude = float(input('Enter the Altitude : '))\n",
    "    hypotenuse= float(input('Enter the hypotenuse : '))\n",
    "    side_Of_Triangle(0,altitude,hypotenuse)\n",
    "elif x=='altitude':\n",
    "    base=float(input('Enter the base : '))\n",
    "    hypotenuse= float(input('Enter the hypotenuse : '))\n",
    "    side_Of_Triangle(base,0,hypotenuse)\n",
    "elif x=='hypotenuse':\n",
    "    altitude = float(input('Enter the Altitude : '))\n",
    "    base=float(input('Enter the base : '))\n",
    "    side_Of_Triangle(base,altitude,0)\n",
    "else:\n",
    "    print('invalid Option choose any three options - base, altitude or hypotenuse ')"
   ]
  },
  {
   "cell_type": "code",
   "execution_count": null,
   "id": "1081b9d9",
   "metadata": {},
   "outputs": [],
   "source": []
  },
  {
   "cell_type": "code",
   "execution_count": null,
   "id": "3bbca01e",
   "metadata": {},
   "outputs": [],
   "source": []
  }
 ],
 "metadata": {
  "kernelspec": {
   "display_name": "Python 3 (ipykernel)",
   "language": "python",
   "name": "python3"
  },
  "language_info": {
   "codemirror_mode": {
    "name": "ipython",
    "version": 3
   },
   "file_extension": ".py",
   "mimetype": "text/x-python",
   "name": "python",
   "nbconvert_exporter": "python",
   "pygments_lexer": "ipython3",
   "version": "3.9.12"
  }
 },
 "nbformat": 4,
 "nbformat_minor": 5
}
