{
 "cells": [
  {
   "cell_type": "code",
   "execution_count": 2,
   "id": "f6fda0e2",
   "metadata": {},
   "outputs": [
    {
     "name": "stdout",
     "output_type": "stream",
     "text": [
      "Enter the string: sajad abdul manaf\n",
      "{'s': 1, 'a': 5, 'j': 1, 'd': 2, 'b': 1, 'u': 1, 'l': 1, 'm': 1, 'n': 1, 'f': 1}\n"
     ]
    }
   ],
   "source": [
    "str1 = input (\"Enter the string: \").replace(' ','')\n",
    "freq = dict()\n",
    "for i in str1:\n",
    "    if i in freq:\n",
    "        freq[i] = freq[i] + 1\n",
    "    else:\n",
    "        freq[i] = 1\n",
    "print(freq)"
   ]
  },
  {
   "cell_type": "code",
   "execution_count": null,
   "id": "a1b3c638",
   "metadata": {},
   "outputs": [],
   "source": []
  }
 ],
 "metadata": {
  "kernelspec": {
   "display_name": "Python 3 (ipykernel)",
   "language": "python",
   "name": "python3"
  },
  "language_info": {
   "codemirror_mode": {
    "name": "ipython",
    "version": 3
   },
   "file_extension": ".py",
   "mimetype": "text/x-python",
   "name": "python",
   "nbconvert_exporter": "python",
   "pygments_lexer": "ipython3",
   "version": "3.9.12"
  }
 },
 "nbformat": 4,
 "nbformat_minor": 5
}
