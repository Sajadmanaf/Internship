{
 "cells": [
  {
   "cell_type": "code",
   "execution_count": 1,
   "id": "d1e547ea",
   "metadata": {},
   "outputs": [
    {
     "name": "stdout",
     "output_type": "stream",
     "text": [
      "Collecting selenium\n",
      "  Downloading selenium-4.6.0-py3-none-any.whl (5.2 MB)\n",
      "Collecting trio-websocket~=0.9\n",
      "  Downloading trio_websocket-0.9.2-py3-none-any.whl (16 kB)\n",
      "Requirement already satisfied: urllib3[socks]~=1.26 in c:\\users\\sajad\\anaconda3\\lib\\site-packages (from selenium) (1.26.9)\n",
      "Collecting trio~=0.17\n",
      "  Downloading trio-0.22.0-py3-none-any.whl (384 kB)\n",
      "Requirement already satisfied: certifi>=2021.10.8 in c:\\users\\sajad\\anaconda3\\lib\\site-packages (from selenium) (2021.10.8)\n",
      "Collecting exceptiongroup>=1.0.0rc9\n",
      "  Downloading exceptiongroup-1.0.1-py3-none-any.whl (12 kB)\n",
      "Requirement already satisfied: sniffio in c:\\users\\sajad\\anaconda3\\lib\\site-packages (from trio~=0.17->selenium) (1.2.0)\n",
      "Requirement already satisfied: idna in c:\\users\\sajad\\anaconda3\\lib\\site-packages (from trio~=0.17->selenium) (3.3)\n",
      "Requirement already satisfied: sortedcontainers in c:\\users\\sajad\\anaconda3\\lib\\site-packages (from trio~=0.17->selenium) (2.4.0)\n",
      "Collecting async-generator>=1.9\n",
      "  Downloading async_generator-1.10-py3-none-any.whl (18 kB)\n",
      "Requirement already satisfied: cffi>=1.14 in c:\\users\\sajad\\anaconda3\\lib\\site-packages (from trio~=0.17->selenium) (1.15.0)\n",
      "Collecting outcome\n",
      "  Downloading outcome-1.2.0-py2.py3-none-any.whl (9.7 kB)\n",
      "Requirement already satisfied: attrs>=19.2.0 in c:\\users\\sajad\\anaconda3\\lib\\site-packages (from trio~=0.17->selenium) (21.4.0)\n",
      "Requirement already satisfied: pycparser in c:\\users\\sajad\\anaconda3\\lib\\site-packages (from cffi>=1.14->trio~=0.17->selenium) (2.21)\n",
      "Collecting wsproto>=0.14\n",
      "  Downloading wsproto-1.2.0-py3-none-any.whl (24 kB)\n",
      "Requirement already satisfied: PySocks!=1.5.7,<2.0,>=1.5.6 in c:\\users\\sajad\\anaconda3\\lib\\site-packages (from urllib3[socks]~=1.26->selenium) (1.7.1)\n",
      "Collecting h11<1,>=0.9.0\n",
      "  Downloading h11-0.14.0-py3-none-any.whl (58 kB)\n",
      "Installing collected packages: outcome, h11, exceptiongroup, async-generator, wsproto, trio, trio-websocket, selenium\n",
      "Successfully installed async-generator-1.10 exceptiongroup-1.0.1 h11-0.14.0 outcome-1.2.0 selenium-4.6.0 trio-0.22.0 trio-websocket-0.9.2 wsproto-1.2.0\n"
     ]
    }
   ],
   "source": [
    "#Install Selenium Library\n",
    "!pip install selenium"
   ]
  },
  {
   "cell_type": "code",
   "execution_count": 266,
   "id": "dd2d35ee",
   "metadata": {},
   "outputs": [],
   "source": [
    "import selenium # ForSelenium\n",
    "from selenium import webdriver # Library for opening automated chrome Window\n",
    "import pandas as pd # For Pandas\n",
    "from selenium.webdriver.common.by import By# For inbuilt class by\n",
    "import warnings\n",
    "warnings.filterwarnings('ignore') # for suppressing warnings\n",
    "import time  # for time usage of search engine\n",
    "from selenium.webdriver.common.keys import Keys\n",
    "from selenium.webdriver.support import expected_conditions as EC\n",
    "from selenium.webdriver.support.ui import WebDriverWait\n",
    "import time\n",
    "import requests\n",
    "import re"
   ]
  },
  {
   "cell_type": "code",
   "execution_count": 336,
   "id": "72235995",
   "metadata": {},
   "outputs": [
    {
     "data": {
      "text/plain": [
       "{}"
      ]
     },
     "execution_count": 336,
     "metadata": {},
     "output_type": "execute_result"
    }
   ],
   "source": [
    "options = webdriver.ChromeOptions()\n",
    "options.add_argument(\"start-maximized\")\n",
    "options.add_argument('--disable-blink-features=AutomationControlled')\n",
    "options.add_experimental_option(\"excludeSwitches\", [\"enable-automation\"])\n",
    "options.add_experimental_option('useAutomationExtension', False)\n",
    "driver = webdriver.Chrome(options=options, executable_path='chromedriver.exe')\n",
    "driver.execute_script(\"Object.defineProperty(navigator, 'webdriver', {get: () => undefined})\")\n",
    "driver.execute_cdp_cmd('Network.setUserAgentOverride', {\"userAgent\": 'Mozilla/5.0 (Windows NT 10.0; Win64; x64) '\n",
    "                                                                     'AppleWebKit/537.36 (KHTML, like Gecko) '\n",
    "                                                                    'Chrome/85.0.4183.102 Safari/537.36'})"
   ]
  },
  {
   "cell_type": "markdown",
   "id": "486d8019",
   "metadata": {},
   "source": [
    "#For connecting to Webdriver\n",
    "driver= webdriver.Chrome(r'C:\\Users\\sajad\\Downloads\\chromedriver_win32\\chromedriver.exe')"
   ]
  },
  {
   "cell_type": "code",
   "execution_count": 135,
   "id": "c5054a58",
   "metadata": {},
   "outputs": [],
   "source": [
    "#driver.maximize_window() # for Maximizing the Chrome Window"
   ]
  },
  {
   "cell_type": "markdown",
   "id": "957423b2",
   "metadata": {},
   "source": [
    "## 1. Write a python program to scrape data for “Data Analyst” Job position in “Bangalore” location"
   ]
  },
  {
   "cell_type": "code",
   "execution_count": 136,
   "id": "10ded459",
   "metadata": {},
   "outputs": [],
   "source": [
    "url = 'https://www.naukri.com/'\n",
    "driver.get(url)"
   ]
  },
  {
   "cell_type": "code",
   "execution_count": 137,
   "id": "65b3b4b0",
   "metadata": {},
   "outputs": [],
   "source": [
    "# search job Data Analyst\n",
    "\n",
    "search_job= driver.find_element(By.CLASS_NAME,'suggestor-input')\n",
    "search_job.send_keys('Data Analyst')"
   ]
  },
  {
   "cell_type": "code",
   "execution_count": 138,
   "id": "3c7bc0c9",
   "metadata": {},
   "outputs": [],
   "source": [
    "location= driver.find_element(By.XPATH,'/html/body/div[1]/div[7]/div/div/div[5]/div/div/div/input')\n",
    "location.send_keys('Bangalore')"
   ]
  },
  {
   "cell_type": "code",
   "execution_count": 139,
   "id": "3a550141",
   "metadata": {},
   "outputs": [],
   "source": [
    "search_btn=driver.find_element(By.XPATH,'//*[@id=\"root\"]/div[7]/div/div/div[6]')\n",
    "search_btn.click()"
   ]
  },
  {
   "cell_type": "code",
   "execution_count": 147,
   "id": "c959db17",
   "metadata": {},
   "outputs": [
    {
     "data": {
      "text/plain": [
       "['Data Analyst',\n",
       " 'APRP Manager / Senior Data Analyst - MeritTrac Services',\n",
       " 'Sr Data Analyst',\n",
       " 'Senior Data Management Analyst',\n",
       " 'Senior Data Analyst - PLM Data Migration',\n",
       " 'People Data Analyst',\n",
       " 'Associate Healthcare Research & Data Analyst',\n",
       " 'Lead Data Analyst',\n",
       " 'Contractual Hiring For Top MNC || Business Data Analyst || Bangalore',\n",
       " 'Master Data Management Business Analyst']"
      ]
     },
     "execution_count": 147,
     "metadata": {},
     "output_type": "execute_result"
    }
   ],
   "source": [
    "# EXTRACTING 'JOB_TITLE' DATA\n",
    "\n",
    "# now we extract 'job_title' data from web element\n",
    "#//*[@id=\"root\"]/div[4]/div/section[2]/div[2]/article[1]/div[1]/div[1]/a\n",
    "\n",
    "job = driver.find_elements(By.XPATH,'//a[@class=\"title fw500 ellipsis\"]')\n",
    "\n",
    "Job_title= []      # store job_title's all element in this  variable \n",
    "for i in job :\n",
    "    Job_title.append(i.text)\n",
    "    \n",
    "#Job_title[2]\n",
    "\n",
    "job_title = Job_title[0:10]\n",
    "job_title"
   ]
  },
  {
   "cell_type": "code",
   "execution_count": 149,
   "id": "9eb00746",
   "metadata": {},
   "outputs": [
    {
     "data": {
      "text/plain": [
       "['Cargill',\n",
       " 'MeritTrac',\n",
       " 'Inspira Enterprise India Pvt. Ltd.',\n",
       " 'Wells Fargo',\n",
       " 'CGI',\n",
       " 'Western Digital',\n",
       " 'Clarivate',\n",
       " 'Mobile Premier League (MPL)',\n",
       " 'TeamLease',\n",
       " 'Accenture']"
      ]
     },
     "execution_count": 149,
     "metadata": {},
     "output_type": "execute_result"
    }
   ],
   "source": [
    "#EXTRACTING 'COMPANY_NAME' DATA\n",
    "\n",
    "corp = driver.find_elements(By.XPATH,'//a[@class=\"subTitle ellipsis fleft\"]')\n",
    "\n",
    "Company_name = []\n",
    "for i in corp:\n",
    "    Company_name.append(i.text)\n",
    "    \n",
    "#print(Company_name[2])\n",
    "len(Company_name)\n",
    "\n",
    "company_name= Company_name[0:10]\n",
    "company_name"
   ]
  },
  {
   "cell_type": "code",
   "execution_count": 150,
   "id": "e24815e4",
   "metadata": {},
   "outputs": [
    {
     "name": "stdout",
     "output_type": "stream",
     "text": [
      "Bangalore/Bengaluru\n"
     ]
    }
   ],
   "source": [
    "#EXTRACTING 'LOCATION' DATA\n",
    "\n",
    "# # now we extract 'location' data from web element\n",
    "\n",
    "locat = driver.find_elements(By.XPATH,'//li[@class=\"fleft grey-text br2 placeHolderLi location\"]')\n",
    "\n",
    "Location = []      # store loacte's elements in this variable by run for_loop\n",
    "for i in locat:\n",
    "#    print(i.text)\n",
    "    Location.append(i.text)\n",
    "    \n",
    "print(Location[2])\n",
    "len(Location)\n",
    "\n",
    "location= Location[0:10]"
   ]
  },
  {
   "cell_type": "code",
   "execution_count": 151,
   "id": "e68dfdb5",
   "metadata": {},
   "outputs": [
    {
     "name": "stdout",
     "output_type": "stream",
     "text": [
      "3-4 Yrs\n"
     ]
    },
    {
     "data": {
      "text/plain": [
       "20"
      ]
     },
     "execution_count": 151,
     "metadata": {},
     "output_type": "execute_result"
    }
   ],
   "source": [
    "#EXTRACTING 'EXPERIANCE' DATA\n",
    "\n",
    "#now we extract 'experiance' data from web element\n",
    "\n",
    "exe = driver.find_elements(By.XPATH,'//li[@class=\"fleft grey-text br2 placeHolderLi experience\"]')\n",
    "\n",
    "Experience = []      # store exe's elements in this variable by run ( for loop)\n",
    "for i in exe:\n",
    "    Experience.append(i.text)\n",
    "    \n",
    "print(Experience[2])\n",
    "\n",
    "experience= Experience[0:10]\n",
    "len(Experience)"
   ]
  },
  {
   "cell_type": "code",
   "execution_count": 153,
   "id": "7bb773cb",
   "metadata": {},
   "outputs": [
    {
     "data": {
      "text/html": [
       "<div>\n",
       "<style scoped>\n",
       "    .dataframe tbody tr th:only-of-type {\n",
       "        vertical-align: middle;\n",
       "    }\n",
       "\n",
       "    .dataframe tbody tr th {\n",
       "        vertical-align: top;\n",
       "    }\n",
       "\n",
       "    .dataframe thead th {\n",
       "        text-align: right;\n",
       "    }\n",
       "</style>\n",
       "<table border=\"1\" class=\"dataframe\">\n",
       "  <thead>\n",
       "    <tr style=\"text-align: right;\">\n",
       "      <th></th>\n",
       "      <th>Job_title</th>\n",
       "      <th>Company_name</th>\n",
       "      <th>Location</th>\n",
       "      <th>Experience</th>\n",
       "    </tr>\n",
       "  </thead>\n",
       "  <tbody>\n",
       "    <tr>\n",
       "      <th>0</th>\n",
       "      <td>Data Analyst</td>\n",
       "      <td>Cargill</td>\n",
       "      <td>Bangalore/Bengaluru</td>\n",
       "      <td>3-5 Yrs</td>\n",
       "    </tr>\n",
       "    <tr>\n",
       "      <th>1</th>\n",
       "      <td>APRP Manager / Senior Data Analyst - MeritTrac...</td>\n",
       "      <td>MeritTrac</td>\n",
       "      <td>Bangalore/Bengaluru</td>\n",
       "      <td>9-14 Yrs</td>\n",
       "    </tr>\n",
       "    <tr>\n",
       "      <th>2</th>\n",
       "      <td>Sr Data Analyst</td>\n",
       "      <td>Inspira Enterprise India Pvt. Ltd.</td>\n",
       "      <td>Bangalore/Bengaluru</td>\n",
       "      <td>3-4 Yrs</td>\n",
       "    </tr>\n",
       "    <tr>\n",
       "      <th>3</th>\n",
       "      <td>Senior Data Management Analyst</td>\n",
       "      <td>Wells Fargo</td>\n",
       "      <td>Bangalore/Bengaluru</td>\n",
       "      <td>5-7 Yrs</td>\n",
       "    </tr>\n",
       "    <tr>\n",
       "      <th>4</th>\n",
       "      <td>Senior Data Analyst - PLM Data Migration</td>\n",
       "      <td>CGI</td>\n",
       "      <td>Bangalore/Bengaluru</td>\n",
       "      <td>3-6 Yrs</td>\n",
       "    </tr>\n",
       "    <tr>\n",
       "      <th>5</th>\n",
       "      <td>People Data Analyst</td>\n",
       "      <td>Western Digital</td>\n",
       "      <td>Bangalore/Bengaluru</td>\n",
       "      <td>6-8 Yrs</td>\n",
       "    </tr>\n",
       "    <tr>\n",
       "      <th>6</th>\n",
       "      <td>Associate Healthcare Research &amp; Data Analyst</td>\n",
       "      <td>Clarivate</td>\n",
       "      <td>Bangalore/Bengaluru</td>\n",
       "      <td>3-4 Yrs</td>\n",
       "    </tr>\n",
       "    <tr>\n",
       "      <th>7</th>\n",
       "      <td>Lead Data Analyst</td>\n",
       "      <td>Mobile Premier League (MPL)</td>\n",
       "      <td>Bangalore/Bengaluru</td>\n",
       "      <td>4-7 Yrs</td>\n",
       "    </tr>\n",
       "    <tr>\n",
       "      <th>8</th>\n",
       "      <td>Contractual Hiring For Top MNC || Business Dat...</td>\n",
       "      <td>TeamLease</td>\n",
       "      <td>Bangalore/Bengaluru</td>\n",
       "      <td>5-8 Yrs</td>\n",
       "    </tr>\n",
       "    <tr>\n",
       "      <th>9</th>\n",
       "      <td>Master Data Management Business Analyst</td>\n",
       "      <td>Accenture</td>\n",
       "      <td>Bangalore/Bengaluru</td>\n",
       "      <td>6-8 Yrs</td>\n",
       "    </tr>\n",
       "  </tbody>\n",
       "</table>\n",
       "</div>"
      ],
      "text/plain": [
       "                                           Job_title  \\\n",
       "0                                       Data Analyst   \n",
       "1  APRP Manager / Senior Data Analyst - MeritTrac...   \n",
       "2                                    Sr Data Analyst   \n",
       "3                     Senior Data Management Analyst   \n",
       "4           Senior Data Analyst - PLM Data Migration   \n",
       "5                                People Data Analyst   \n",
       "6       Associate Healthcare Research & Data Analyst   \n",
       "7                                  Lead Data Analyst   \n",
       "8  Contractual Hiring For Top MNC || Business Dat...   \n",
       "9            Master Data Management Business Analyst   \n",
       "\n",
       "                         Company_name             Location Experience  \n",
       "0                             Cargill  Bangalore/Bengaluru    3-5 Yrs  \n",
       "1                           MeritTrac  Bangalore/Bengaluru   9-14 Yrs  \n",
       "2  Inspira Enterprise India Pvt. Ltd.  Bangalore/Bengaluru    3-4 Yrs  \n",
       "3                         Wells Fargo  Bangalore/Bengaluru    5-7 Yrs  \n",
       "4                                 CGI  Bangalore/Bengaluru    3-6 Yrs  \n",
       "5                     Western Digital  Bangalore/Bengaluru    6-8 Yrs  \n",
       "6                           Clarivate  Bangalore/Bengaluru    3-4 Yrs  \n",
       "7         Mobile Premier League (MPL)  Bangalore/Bengaluru    4-7 Yrs  \n",
       "8                           TeamLease  Bangalore/Bengaluru    5-8 Yrs  \n",
       "9                           Accenture  Bangalore/Bengaluru    6-8 Yrs  "
      ]
     },
     "execution_count": 153,
     "metadata": {},
     "output_type": "execute_result"
    }
   ],
   "source": [
    "pd.DataFrame({'Job_title':job_title,'Company_name':company_name,'Location':location,'Experience':experience})"
   ]
  },
  {
   "cell_type": "markdown",
   "id": "3dfcc1c5",
   "metadata": {},
   "source": [
    "## 2.Write a python program to scrape data for “Data Scientist” Job position in “Bangalore” location"
   ]
  },
  {
   "cell_type": "code",
   "execution_count": 155,
   "id": "c9ffad53",
   "metadata": {},
   "outputs": [],
   "source": [
    "driver.get('https://www.naukri.com/')"
   ]
  },
  {
   "cell_type": "code",
   "execution_count": 156,
   "id": "e64da6cb",
   "metadata": {},
   "outputs": [],
   "source": [
    "#Searching of Data Scientist\n",
    "driver.find_element(By.CLASS_NAME,'suggestor-input').send_keys('Data Scientist')"
   ]
  },
  {
   "cell_type": "code",
   "execution_count": 158,
   "id": "ddbf6f17",
   "metadata": {},
   "outputs": [],
   "source": [
    "# For typing 'BANGALORE ' Location  by coding\n",
    "\n",
    "driver.find_element(By.XPATH,'//*[@id=\"root\"]/div[7]/div/div/div[5]/div/div/div/input').send_keys('Bangalore')"
   ]
  },
  {
   "cell_type": "code",
   "execution_count": 162,
   "id": "779e143d",
   "metadata": {},
   "outputs": [],
   "source": [
    "search_btn = driver.find_element(By.XPATH,'//*[@id=\"root\"]/div[7]/div/div/div[6]')\n",
    "\n",
    "search_btn.click()"
   ]
  },
  {
   "cell_type": "code",
   "execution_count": 163,
   "id": "527021b1",
   "metadata": {},
   "outputs": [
    {
     "name": "stdout",
     "output_type": "stream",
     "text": [
      "Senior Data Scientist\n"
     ]
    },
    {
     "data": {
      "text/plain": [
       "10"
      ]
     },
     "execution_count": 163,
     "metadata": {},
     "output_type": "execute_result"
    }
   ],
   "source": [
    "job= driver.find_elements(By.XPATH, '//a[@class= \"title fw500 ellipsis\"]')\n",
    "\n",
    "Job_title= []\n",
    "for i in job:\n",
    "    Job_title.append(i.text)\n",
    "\n",
    "Job_title= Job_title[0:10]\n",
    "#print(Job_title[2])\n",
    "len(Job_title)"
   ]
  },
  {
   "cell_type": "code",
   "execution_count": 165,
   "id": "258607c8",
   "metadata": {},
   "outputs": [
    {
     "name": "stdout",
     "output_type": "stream",
     "text": [
      "Accenture\n"
     ]
    },
    {
     "data": {
      "text/plain": [
       "10"
      ]
     },
     "execution_count": 165,
     "metadata": {},
     "output_type": "execute_result"
    }
   ],
   "source": [
    "# EXTRACTING  'COMPANY_NAME' DATA from web element\n",
    "\n",
    "company= driver.find_elements(By.XPATH, '//a[@class= \"subTitle ellipsis fleft\"]')\n",
    "\n",
    "company_name= []    \n",
    "\n",
    "for i in company:\n",
    "    company_name.append(i.text)\n",
    "\n",
    "company_name= company_name[0:10]\n",
    "#print(company_name[0])\n",
    "len(company_name)"
   ]
  },
  {
   "cell_type": "code",
   "execution_count": 166,
   "id": "9a2d50f3",
   "metadata": {},
   "outputs": [
    {
     "name": "stdout",
     "output_type": "stream",
     "text": [
      "Hybrid - Bangalore/Bengaluru, Mumbai, Pune\n"
     ]
    },
    {
     "data": {
      "text/plain": [
       "10"
      ]
     },
     "execution_count": 166,
     "metadata": {},
     "output_type": "execute_result"
    }
   ],
   "source": [
    "# 'lOCATION' DATA \n",
    "locat= driver.find_elements(By.XPATH, '//li[@class= \"fleft grey-text br2 placeHolderLi location\"]')\n",
    "\n",
    "LOCATION= []    #  store data in this variable by runing  for_loop\n",
    "for i in locat:\n",
    "    LOCATION.append(i.text)\n",
    "\n",
    "LOCATION= LOCATION[0:10]\n",
    "print(LOCATION[1])\n",
    "len(LOCATION)"
   ]
  },
  {
   "cell_type": "code",
   "execution_count": 167,
   "id": "fd5a79d7",
   "metadata": {},
   "outputs": [
    {
     "data": {
      "text/html": [
       "<div>\n",
       "<style scoped>\n",
       "    .dataframe tbody tr th:only-of-type {\n",
       "        vertical-align: middle;\n",
       "    }\n",
       "\n",
       "    .dataframe tbody tr th {\n",
       "        vertical-align: top;\n",
       "    }\n",
       "\n",
       "    .dataframe thead th {\n",
       "        text-align: right;\n",
       "    }\n",
       "</style>\n",
       "<table border=\"1\" class=\"dataframe\">\n",
       "  <thead>\n",
       "    <tr style=\"text-align: right;\">\n",
       "      <th></th>\n",
       "      <th>Job_title</th>\n",
       "      <th>Location</th>\n",
       "      <th>company_name</th>\n",
       "    </tr>\n",
       "  </thead>\n",
       "  <tbody>\n",
       "    <tr>\n",
       "      <th>0</th>\n",
       "      <td>Analystics &amp; Modeling Specialist</td>\n",
       "      <td>Bangalore/Bengaluru, Kolkata, Mumbai, Hyderaba...</td>\n",
       "      <td>Accenture</td>\n",
       "    </tr>\n",
       "    <tr>\n",
       "      <th>1</th>\n",
       "      <td>Assistant Manager - Data Science</td>\n",
       "      <td>Hybrid - Bangalore/Bengaluru, Mumbai, Pune</td>\n",
       "      <td>Citiustech</td>\n",
       "    </tr>\n",
       "    <tr>\n",
       "      <th>2</th>\n",
       "      <td>Senior Data Scientist</td>\n",
       "      <td>Hybrid - Bangalore/Bengaluru, Pune, Chennai</td>\n",
       "      <td>Wipro</td>\n",
       "    </tr>\n",
       "    <tr>\n",
       "      <th>3</th>\n",
       "      <td>Program Manager, Analytics</td>\n",
       "      <td>Bangalore/Bengaluru</td>\n",
       "      <td>Uber</td>\n",
       "    </tr>\n",
       "    <tr>\n",
       "      <th>4</th>\n",
       "      <td>Data Scientist - Looking For Immediate Joiners</td>\n",
       "      <td>Hybrid - Bangalore/Bengaluru, Hyderabad/Secund...</td>\n",
       "      <td>Wipro</td>\n",
       "    </tr>\n",
       "    <tr>\n",
       "      <th>5</th>\n",
       "      <td>Data Scientist</td>\n",
       "      <td>Bangalore/Bengaluru, Hyderabad/Secunderabad, P...</td>\n",
       "      <td>Altair</td>\n",
       "    </tr>\n",
       "    <tr>\n",
       "      <th>6</th>\n",
       "      <td>Senior Data Scientist</td>\n",
       "      <td>Bangalore/Bengaluru, Mumbai, New Delhi, Chennai</td>\n",
       "      <td>Boston Consulting Group</td>\n",
       "    </tr>\n",
       "    <tr>\n",
       "      <th>7</th>\n",
       "      <td>Data Scientist - II</td>\n",
       "      <td>Bangalore/Bengaluru, India, Mumbai (All Areas)</td>\n",
       "      <td>Bizongo</td>\n",
       "    </tr>\n",
       "    <tr>\n",
       "      <th>8</th>\n",
       "      <td>Lead ML Scientist</td>\n",
       "      <td>Bangalore/Bengaluru, Mumbai</td>\n",
       "      <td>Fractal Analytics</td>\n",
       "    </tr>\n",
       "    <tr>\n",
       "      <th>9</th>\n",
       "      <td>Senior Data Scientist</td>\n",
       "      <td>Bangalore/Bengaluru, Mumbai</td>\n",
       "      <td>Baker Hughes</td>\n",
       "    </tr>\n",
       "  </tbody>\n",
       "</table>\n",
       "</div>"
      ],
      "text/plain": [
       "                                        Job_title  \\\n",
       "0                Analystics & Modeling Specialist   \n",
       "1                Assistant Manager - Data Science   \n",
       "2                           Senior Data Scientist   \n",
       "3                      Program Manager, Analytics   \n",
       "4  Data Scientist - Looking For Immediate Joiners   \n",
       "5                                  Data Scientist   \n",
       "6                           Senior Data Scientist   \n",
       "7                             Data Scientist - II   \n",
       "8                               Lead ML Scientist   \n",
       "9                           Senior Data Scientist   \n",
       "\n",
       "                                            Location             company_name  \n",
       "0  Bangalore/Bengaluru, Kolkata, Mumbai, Hyderaba...                Accenture  \n",
       "1         Hybrid - Bangalore/Bengaluru, Mumbai, Pune               Citiustech  \n",
       "2        Hybrid - Bangalore/Bengaluru, Pune, Chennai                    Wipro  \n",
       "3                                Bangalore/Bengaluru                     Uber  \n",
       "4  Hybrid - Bangalore/Bengaluru, Hyderabad/Secund...                    Wipro  \n",
       "5  Bangalore/Bengaluru, Hyderabad/Secunderabad, P...                   Altair  \n",
       "6    Bangalore/Bengaluru, Mumbai, New Delhi, Chennai  Boston Consulting Group  \n",
       "7     Bangalore/Bengaluru, India, Mumbai (All Areas)                  Bizongo  \n",
       "8                        Bangalore/Bengaluru, Mumbai        Fractal Analytics  \n",
       "9                        Bangalore/Bengaluru, Mumbai             Baker Hughes  "
      ]
     },
     "execution_count": 167,
     "metadata": {},
     "output_type": "execute_result"
    }
   ],
   "source": [
    "pd.DataFrame({'Job_title':Job_title,'Location':LOCATION,'company_name':company_name})"
   ]
  },
  {
   "cell_type": "markdown",
   "id": "f5e86ae6",
   "metadata": {},
   "source": [
    "## 3.Naukri.com Location and Salary Filter"
   ]
  },
  {
   "cell_type": "code",
   "execution_count": 185,
   "id": "6d116f4f",
   "metadata": {},
   "outputs": [],
   "source": [
    "driver.get('https://www.naukri.com/')"
   ]
  },
  {
   "cell_type": "code",
   "execution_count": 186,
   "id": "b59e7fff",
   "metadata": {},
   "outputs": [],
   "source": [
    "driver.find_element(By.CLASS_NAME,'suggestor-input').send_keys('Data Scientist')"
   ]
  },
  {
   "cell_type": "code",
   "execution_count": 187,
   "id": "9ce28737",
   "metadata": {},
   "outputs": [],
   "source": [
    "search= driver.find_element(By.XPATH,'//div[@class= \"qsbSubmit\"]')\n",
    "search.click()"
   ]
  },
  {
   "cell_type": "code",
   "execution_count": 188,
   "id": "7d095088",
   "metadata": {},
   "outputs": [],
   "source": [
    "\n",
    "loc= driver.find_element(By.XPATH,'//*[@id=\"root\"]/div[4]/div/section[1]/div[2]/div[5]/div[2]/div[2]/label/i')\n",
    "loc.click()\n"
   ]
  },
  {
   "cell_type": "code",
   "execution_count": 189,
   "id": "00770a46",
   "metadata": {},
   "outputs": [],
   "source": [
    "\n",
    "driver.find_element(By.XPATH,'//*[@id=\"root\"]/div[4]/div/section[1]/div[2]/div[6]/div[2]/div[2]').click()"
   ]
  },
  {
   "cell_type": "code",
   "execution_count": 214,
   "id": "d079aa08",
   "metadata": {},
   "outputs": [
    {
     "data": {
      "text/plain": [
       "10"
      ]
     },
     "execution_count": 214,
     "metadata": {},
     "output_type": "execute_result"
    }
   ],
   "source": [
    "#Job Title\n",
    "title = driver.find_elements(By.XPATH,'//a[@class= \"title fw500 ellipsis\"]')\n",
    "\n",
    "\n",
    "job_title= []\n",
    "for i in title:\n",
    "    #print(i.text)\n",
    "    job_title.append(i.text)\n",
    "job_title = job_title[0:10]\n",
    "\n",
    "len(job_title)"
   ]
  },
  {
   "cell_type": "code",
   "execution_count": 216,
   "id": "779050c2",
   "metadata": {},
   "outputs": [
    {
     "data": {
      "text/plain": [
       "10"
      ]
     },
     "execution_count": 216,
     "metadata": {},
     "output_type": "execute_result"
    }
   ],
   "source": [
    "#Salary\n",
    "\n",
    "exp= driver.find_elements(By.XPATH,'//span[@class= \"ellipsis fleft fs12 lh16 \"]')\n",
    "\n",
    "data= []\n",
    "for i in exp:\n",
    "    #print(i.text)\n",
    "    data.append(i.text)\n",
    "data\n",
    "data =data[0:10]\n",
    "len(data)"
   ]
  },
  {
   "cell_type": "code",
   "execution_count": 218,
   "id": "1ade1db3",
   "metadata": {},
   "outputs": [
    {
     "data": {
      "text/plain": [
       "10"
      ]
     },
     "execution_count": 218,
     "metadata": {},
     "output_type": "execute_result"
    }
   ],
   "source": [
    "#Location\n",
    "loc= driver.find_elements(By.XPATH,'//span[@class= \"ellipsis fleft fs12 lh16 locWdth\"]')\n",
    "\n",
    "locdata= []\n",
    "for i in loc:\n",
    "    #print(i.text)\n",
    "    locdata.append(i.text)\n",
    "locdata=locdata[0:10]\n",
    "len(locdata)\n"
   ]
  },
  {
   "cell_type": "code",
   "execution_count": 219,
   "id": "a4b87149",
   "metadata": {},
   "outputs": [
    {
     "data": {
      "text/plain": [
       "['HCLTech',\n",
       " 'Boston Consulting Group',\n",
       " 'NGI Ventures',\n",
       " 'Black Turtle',\n",
       " 'Wegarner Solutions',\n",
       " 'torcai digital media',\n",
       " 'Meon Technologies',\n",
       " 'Alliance Recruitment Agency',\n",
       " 'TeamPlus Staffing Solution Pvt Ltd',\n",
       " 'Razor Group GmbH']"
      ]
     },
     "execution_count": 219,
     "metadata": {},
     "output_type": "execute_result"
    }
   ],
   "source": [
    "#company name\n",
    "\n",
    "corp = driver.find_elements(By.XPATH,'//a[@class= \"subTitle ellipsis fleft\"]')\n",
    "\n",
    "company_name= []\n",
    "for i in corp:\n",
    "#    print(i.text)\n",
    "    company_name.append(i.text)\n",
    "company_name= company_name[0:10]\n",
    "company_name"
   ]
  },
  {
   "cell_type": "code",
   "execution_count": 212,
   "id": "672a2b90",
   "metadata": {},
   "outputs": [
    {
     "data": {
      "text/plain": [
       "['4-9 Yrs',\n",
       " '2-5 Yrs',\n",
       " '0-4 Yrs',\n",
       " '4-8 Yrs',\n",
       " '3-8 Yrs',\n",
       " '2-7 Yrs',\n",
       " '2-5 Yrs',\n",
       " '3-4 Yrs',\n",
       " '3-6 Yrs',\n",
       " '2-3 Yrs']"
      ]
     },
     "execution_count": 212,
     "metadata": {},
     "output_type": "execute_result"
    }
   ],
   "source": [
    "#Experience\n",
    "#ellipsis fleft fs12 lh16 expwdth\n",
    "\n",
    "exp = driver.find_elements(By.XPATH,'//span[@class= \"ellipsis fleft fs12 lh16 expwdth\"]')\n",
    "\n",
    "exp_= []\n",
    "for i in exp:\n",
    "#    print(i.text)\n",
    "    exp_.append(i.text)\n",
    "exp_= exp_[0:10]\n",
    "exp_"
   ]
  },
  {
   "cell_type": "code",
   "execution_count": 220,
   "id": "edd9c4a7",
   "metadata": {},
   "outputs": [
    {
     "data": {
      "text/html": [
       "<div>\n",
       "<style scoped>\n",
       "    .dataframe tbody tr th:only-of-type {\n",
       "        vertical-align: middle;\n",
       "    }\n",
       "\n",
       "    .dataframe tbody tr th {\n",
       "        vertical-align: top;\n",
       "    }\n",
       "\n",
       "    .dataframe thead th {\n",
       "        text-align: right;\n",
       "    }\n",
       "</style>\n",
       "<table border=\"1\" class=\"dataframe\">\n",
       "  <thead>\n",
       "    <tr style=\"text-align: right;\">\n",
       "      <th></th>\n",
       "      <th>Job Title</th>\n",
       "      <th>Experience</th>\n",
       "      <th>Company Name</th>\n",
       "      <th>Location Data</th>\n",
       "      <th>Salary</th>\n",
       "    </tr>\n",
       "  </thead>\n",
       "  <tbody>\n",
       "    <tr>\n",
       "      <th>0</th>\n",
       "      <td>Data Scientist</td>\n",
       "      <td>4-9 Yrs</td>\n",
       "      <td>HCLTech</td>\n",
       "      <td>Noida, Hyderabad/Secunderabad, Chennai, Bangal...</td>\n",
       "      <td>Not disclosed</td>\n",
       "    </tr>\n",
       "    <tr>\n",
       "      <th>1</th>\n",
       "      <td>DigitalBCG GAMMA Data Scientist</td>\n",
       "      <td>2-5 Yrs</td>\n",
       "      <td>Boston Consulting Group</td>\n",
       "      <td>New Delhi, Bangalore/Bengaluru</td>\n",
       "      <td>Not disclosed</td>\n",
       "    </tr>\n",
       "    <tr>\n",
       "      <th>2</th>\n",
       "      <td>Urgent hiring For Data Scientist (PHD Must Have)</td>\n",
       "      <td>0-4 Yrs</td>\n",
       "      <td>NGI Ventures</td>\n",
       "      <td>Temp. WFH - Noida, Pune</td>\n",
       "      <td>Not disclosed</td>\n",
       "    </tr>\n",
       "    <tr>\n",
       "      <th>3</th>\n",
       "      <td>Manager - Data Science - Banking&amp;Financial Ser...</td>\n",
       "      <td>4-8 Yrs</td>\n",
       "      <td>Black Turtle</td>\n",
       "      <td>Delhi / NCR, Bangalore/Bengaluru</td>\n",
       "      <td>Not disclosed</td>\n",
       "    </tr>\n",
       "    <tr>\n",
       "      <th>4</th>\n",
       "      <td>Data Scientist / Sr. Data Scientist</td>\n",
       "      <td>3-8 Yrs</td>\n",
       "      <td>Wegarner Solutions</td>\n",
       "      <td>Temp. WFH - Noida</td>\n",
       "      <td>Not disclosed</td>\n",
       "    </tr>\n",
       "    <tr>\n",
       "      <th>5</th>\n",
       "      <td>Data Scientist</td>\n",
       "      <td>2-7 Yrs</td>\n",
       "      <td>torcai digital media</td>\n",
       "      <td>Dehradun, Hyderabad/Secunderabad, Gurgaon/Guru...</td>\n",
       "      <td>Not disclosed</td>\n",
       "    </tr>\n",
       "    <tr>\n",
       "      <th>6</th>\n",
       "      <td>Data Scientist</td>\n",
       "      <td>2-5 Yrs</td>\n",
       "      <td>Meon Technologies</td>\n",
       "      <td>Noida</td>\n",
       "      <td>3,00,000 - 6,00,000 PA.</td>\n",
       "    </tr>\n",
       "    <tr>\n",
       "      <th>7</th>\n",
       "      <td>Data Scientist</td>\n",
       "      <td>3-4 Yrs</td>\n",
       "      <td>Alliance Recruitment Agency</td>\n",
       "      <td>Noida</td>\n",
       "      <td>Not disclosed</td>\n",
       "    </tr>\n",
       "    <tr>\n",
       "      <th>8</th>\n",
       "      <td>Data scientist- Python</td>\n",
       "      <td>3-6 Yrs</td>\n",
       "      <td>TeamPlus Staffing Solution Pvt Ltd</td>\n",
       "      <td>Gurgaon/Gurugram</td>\n",
       "      <td>Not disclosed</td>\n",
       "    </tr>\n",
       "    <tr>\n",
       "      <th>9</th>\n",
       "      <td>Data Scientist</td>\n",
       "      <td>2-3 Yrs</td>\n",
       "      <td>Razor Group GmbH</td>\n",
       "      <td>New Delhi</td>\n",
       "      <td>Not disclosed</td>\n",
       "    </tr>\n",
       "  </tbody>\n",
       "</table>\n",
       "</div>"
      ],
      "text/plain": [
       "                                           Job Title Experience  \\\n",
       "0                                     Data Scientist    4-9 Yrs   \n",
       "1                    DigitalBCG GAMMA Data Scientist    2-5 Yrs   \n",
       "2   Urgent hiring For Data Scientist (PHD Must Have)    0-4 Yrs   \n",
       "3  Manager - Data Science - Banking&Financial Ser...    4-8 Yrs   \n",
       "4                Data Scientist / Sr. Data Scientist    3-8 Yrs   \n",
       "5                                     Data Scientist    2-7 Yrs   \n",
       "6                                     Data Scientist    2-5 Yrs   \n",
       "7                                     Data Scientist    3-4 Yrs   \n",
       "8                             Data scientist- Python    3-6 Yrs   \n",
       "9                                     Data Scientist    2-3 Yrs   \n",
       "\n",
       "                         Company Name  \\\n",
       "0                             HCLTech   \n",
       "1             Boston Consulting Group   \n",
       "2                        NGI Ventures   \n",
       "3                        Black Turtle   \n",
       "4                  Wegarner Solutions   \n",
       "5                torcai digital media   \n",
       "6                   Meon Technologies   \n",
       "7         Alliance Recruitment Agency   \n",
       "8  TeamPlus Staffing Solution Pvt Ltd   \n",
       "9                    Razor Group GmbH   \n",
       "\n",
       "                                       Location Data                   Salary  \n",
       "0  Noida, Hyderabad/Secunderabad, Chennai, Bangal...            Not disclosed  \n",
       "1                     New Delhi, Bangalore/Bengaluru            Not disclosed  \n",
       "2                            Temp. WFH - Noida, Pune            Not disclosed  \n",
       "3                   Delhi / NCR, Bangalore/Bengaluru            Not disclosed  \n",
       "4                                  Temp. WFH - Noida            Not disclosed  \n",
       "5  Dehradun, Hyderabad/Secunderabad, Gurgaon/Guru...            Not disclosed  \n",
       "6                                              Noida  3,00,000 - 6,00,000 PA.  \n",
       "7                                              Noida            Not disclosed  \n",
       "8                                   Gurgaon/Gurugram            Not disclosed  \n",
       "9                                          New Delhi            Not disclosed  "
      ]
     },
     "execution_count": 220,
     "metadata": {},
     "output_type": "execute_result"
    }
   ],
   "source": [
    "pd.DataFrame({'Job Title':job_title,'Experience':exp_,'Company Name':company_name,'Location Data':locdata,'Salary':data})"
   ]
  },
  {
   "cell_type": "code",
   "execution_count": null,
   "id": "e3a352ab",
   "metadata": {},
   "outputs": [],
   "source": []
  },
  {
   "cell_type": "code",
   "execution_count": null,
   "id": "99debbe4",
   "metadata": {},
   "outputs": [],
   "source": []
  },
  {
   "cell_type": "markdown",
   "id": "48e974a6",
   "metadata": {},
   "source": [
    "## 4.Scrape data of first 100 sunglasses listings on flipkart.com"
   ]
  },
  {
   "cell_type": "code",
   "execution_count": null,
   "id": "bac299d8",
   "metadata": {},
   "outputs": [],
   "source": []
  },
  {
   "cell_type": "code",
   "execution_count": 222,
   "id": "2e5bbc9b",
   "metadata": {},
   "outputs": [],
   "source": [
    "# connect to webdriver\n",
    "#driver = webdriver.Chrome(\"chromedriver.exe\")\n",
    "\n",
    "# get webpage\n",
    "driver.get(\"https://www.flipkart.com/\")\n",
    "time.sleep(2)\n",
    "driver.maximize_window()"
   ]
  },
  {
   "cell_type": "code",
   "execution_count": null,
   "id": "49123e69",
   "metadata": {},
   "outputs": [],
   "source": []
  },
  {
   "cell_type": "code",
   "execution_count": 93,
   "id": "df63fd3c",
   "metadata": {},
   "outputs": [],
   "source": [
    "#Closing the login subscreen\n",
    "search_btn=driver.find_element(By.XPATH,'/html/body/div[2]/div/div/button')\n",
    "search_btn.click()"
   ]
  },
  {
   "cell_type": "code",
   "execution_count": 94,
   "id": "0d40ca8b",
   "metadata": {},
   "outputs": [],
   "source": [
    "#Typing unglass\n",
    "brand= driver.find_element(By.XPATH,'//*[@id=\"container\"]/div/div[1]/div[1]/div[2]/div[2]/form/div/div/input')\n",
    "brand.send_keys('Sunglasses')"
   ]
  },
  {
   "cell_type": "code",
   "execution_count": 95,
   "id": "a19d64e0",
   "metadata": {},
   "outputs": [],
   "source": [
    "#search for Sunglasses\n",
    "srch_sungls=driver.find_element(By.XPATH,'//*[@id=\"container\"]/div/div[1]/div[1]/div[2]/div[2]/form/div/button')\n",
    "srch_sungls.click()"
   ]
  },
  {
   "cell_type": "code",
   "execution_count": 96,
   "id": "633a6d44",
   "metadata": {},
   "outputs": [
    {
     "data": {
      "text/plain": [
       "40"
      ]
     },
     "execution_count": 96,
     "metadata": {},
     "output_type": "execute_result"
    }
   ],
   "source": [
    "#Brand Iteration for 1-40\n",
    "sun_brand= driver.find_elements(By.CLASS_NAME,'_2WkVRV')\n",
    "\n",
    "Brand= []\n",
    "for i in sun_brand:\n",
    "    Brand.append(i.text)\n",
    "len(Brand)"
   ]
  },
  {
   "cell_type": "code",
   "execution_count": 97,
   "id": "cda96ef9",
   "metadata": {},
   "outputs": [],
   "source": [
    "#Clicking next page\n",
    "\n",
    "clk_next=driver.find_element(By.XPATH,'//*[@id=\"container\"]/div/div[3]/div[1]/div[2]/div[12]/div/div/nav/a[11]/span')\n",
    "clk_next.click()"
   ]
  },
  {
   "cell_type": "code",
   "execution_count": 98,
   "id": "c371568e",
   "metadata": {},
   "outputs": [
    {
     "data": {
      "text/plain": [
       "80"
      ]
     },
     "execution_count": 98,
     "metadata": {},
     "output_type": "execute_result"
    }
   ],
   "source": [
    "#Brand Iteration for 41-80\n",
    "sun_brand1= driver.find_elements(By.CLASS_NAME,'_2WkVRV')\n",
    "\n",
    "\n",
    "for i in sun_brand1:\n",
    "    Brand.append(i.text)\n",
    "len(Brand)\n",
    "\n"
   ]
  },
  {
   "cell_type": "code",
   "execution_count": 99,
   "id": "3c52cf72",
   "metadata": {},
   "outputs": [],
   "source": [
    "#Clicking next page\n",
    "clk_next=driver.find_element(By.XPATH,'//*[@id=\"container\"]/div/div[3]/div[1]/div[2]/div[12]/div/div/nav/a[12]/span')\n",
    "clk_next.click()"
   ]
  },
  {
   "cell_type": "code",
   "execution_count": 100,
   "id": "e8fd700e",
   "metadata": {},
   "outputs": [
    {
     "data": {
      "text/plain": [
       "100"
      ]
     },
     "execution_count": 100,
     "metadata": {},
     "output_type": "execute_result"
    }
   ],
   "source": [
    "##Brand Iteration for 81-100\n",
    "sun_brand2= driver.find_elements(By.CLASS_NAME,'_2WkVRV')\n",
    "\n",
    "j=0\n",
    "for i in sun_brand2:\n",
    "    Brand.append(i.text)\n",
    "    j+=1\n",
    "    if j==20:\n",
    "        break\n",
    "len(Brand)\n"
   ]
  },
  {
   "cell_type": "code",
   "execution_count": 101,
   "id": "8d733605",
   "metadata": {},
   "outputs": [
    {
     "data": {
      "text/plain": [
       "['PIRASO',\n",
       " 'RESIST EYEWEAR',\n",
       " 'Fastrack',\n",
       " 'Fastrack',\n",
       " 'Fastrack',\n",
       " 'Fastrack',\n",
       " 'SRPM',\n",
       " 'RED MONK',\n",
       " 'Fastrack',\n",
       " 'New Specs',\n",
       " 'PIRASO',\n",
       " 'Resist',\n",
       " 'SRPM',\n",
       " 'Sewell',\n",
       " 'SUNBEE',\n",
       " 'Elligator',\n",
       " 'PIRASO',\n",
       " 'PIRASO',\n",
       " 'Fastrack',\n",
       " 'PIRASO',\n",
       " 'Silver Kartz',\n",
       " 'PIRASO',\n",
       " 'Elligator',\n",
       " 'SHAAH COLLECTIONS',\n",
       " 'Fastrack',\n",
       " 'Fastrack',\n",
       " 'PIRASO',\n",
       " 'PIRASO',\n",
       " 'ROZZETTA CRAFT',\n",
       " 'Fastrack',\n",
       " 'ROZZETTA CRAFT',\n",
       " 'PIRASO',\n",
       " 'Fastrack',\n",
       " 'Fastrack',\n",
       " 'Fastrack',\n",
       " 'VINCENT CHASE',\n",
       " 'ARICKS',\n",
       " 'ROYAL SON',\n",
       " 'PIRASO',\n",
       " 'Elligator',\n",
       " 'PIRASO',\n",
       " 'PIRASO',\n",
       " 'Elligator',\n",
       " 'PIRASO',\n",
       " 'PIRASO',\n",
       " 'Fastrack',\n",
       " 'ROZZETTA CRAFT',\n",
       " 'SUNBEE',\n",
       " 'DEIXELS',\n",
       " 'Fastrack',\n",
       " 'ROZZETTA CRAFT',\n",
       " 'PIRASO',\n",
       " 'PIRASO',\n",
       " 'VINCENT CHASE',\n",
       " 'ROZZETTA CRAFT',\n",
       " 'Urbanic',\n",
       " 'PIRASO',\n",
       " 'ROYAL SON',\n",
       " 'Satyam Kraft',\n",
       " 'GANSTA',\n",
       " 'ARICKS',\n",
       " 'ROZZETTA CRAFT',\n",
       " 'PIRASO',\n",
       " 'kingsunglasses',\n",
       " 'GANSTA',\n",
       " 'Urbanic',\n",
       " 'ROYAL SON',\n",
       " 'ROYAL SON',\n",
       " 'Fastrack',\n",
       " 'kingsunglasses',\n",
       " 'PIRASO',\n",
       " 'ROZZETTA CRAFT',\n",
       " 'Fastrack',\n",
       " 'Rich Club',\n",
       " 'VINCENT CHASE',\n",
       " 'Fastrack',\n",
       " 'PIRASO',\n",
       " 'PIRASO',\n",
       " 'Lee Topper',\n",
       " 'IDEE',\n",
       " 'OCHILA',\n",
       " 'PC STAR',\n",
       " 'kingsunglasses',\n",
       " 'IDEE',\n",
       " 'ROZZETTA CRAFT',\n",
       " 'ROYAL SON',\n",
       " 'DEXENT COLLECTION',\n",
       " 'ROZZETTA CRAFT',\n",
       " 'kingsunglasses',\n",
       " 'Fastrack',\n",
       " 'Silver Kartz',\n",
       " 'PIRASO',\n",
       " 'PIRASO',\n",
       " 'MODE',\n",
       " 'GANSTA',\n",
       " 'ROZZETTA CRAFT',\n",
       " 'PIRASO',\n",
       " 'ROYAL SON',\n",
       " 'ROZZETTA CRAFT',\n",
       " 'Fastrack']"
      ]
     },
     "execution_count": 101,
     "metadata": {},
     "output_type": "execute_result"
    }
   ],
   "source": [
    "Brand"
   ]
  },
  {
   "cell_type": "code",
   "execution_count": 108,
   "id": "3bb01bdb",
   "metadata": {},
   "outputs": [],
   "source": [
    "#ge-49M\n",
    "# Home Click\n",
    "clk_home=driver.find_element(By.CLASS_NAME,'ge-49M')\n",
    "clk_home.click()"
   ]
  },
  {
   "cell_type": "code",
   "execution_count": 109,
   "id": "2fd51895",
   "metadata": {},
   "outputs": [
    {
     "data": {
      "text/plain": [
       "40"
      ]
     },
     "execution_count": 109,
     "metadata": {},
     "output_type": "execute_result"
    }
   ],
   "source": [
    "#Description 1-40\n",
    "\n",
    "\n",
    "sun_brand_desc= driver.find_elements(By.CLASS_NAME,'IRpwTa')\n",
    "\n",
    "Brand_desc= []\n",
    "for i in sun_brand_desc:\n",
    "    Brand_desc.append(i.text)\n",
    "len(Brand_desc)\n",
    "\n",
    "\n",
    "\n"
   ]
  },
  {
   "cell_type": "code",
   "execution_count": 111,
   "id": "696fd11e",
   "metadata": {},
   "outputs": [],
   "source": [
    "#Clicking next page\n",
    "clk_next=driver.find_element(By.XPATH,'//*[@id=\"container\"]/div/div[3]/div[1]/div[2]/div[12]/div/div/nav/a[11]/span')\n",
    "clk_next.click()\n",
    "\n"
   ]
  },
  {
   "cell_type": "code",
   "execution_count": 112,
   "id": "150f8d66",
   "metadata": {},
   "outputs": [],
   "source": [
    "sun_brand_desc1= driver.find_elements(By.CLASS_NAME,'IRpwTa')\n",
    "#41-80 desc\n",
    "#Brand_desc= []\n",
    "for j in sun_brand_desc1:\n",
    "    Brand_desc.append(j.text)\n",
    "len(Brand_desc)\n",
    "\n",
    "#Clicking next page\n",
    "clk_next=driver.find_element(By.XPATH,'//*[@id=\"container\"]/div/div[3]/div[1]/div[2]/div[12]/div/div/nav/a[12]/span')\n",
    "clk_next.click()\n"
   ]
  },
  {
   "cell_type": "code",
   "execution_count": 113,
   "id": "2c9805fc",
   "metadata": {},
   "outputs": [
    {
     "data": {
      "text/plain": [
       "80"
      ]
     },
     "execution_count": 113,
     "metadata": {},
     "output_type": "execute_result"
    }
   ],
   "source": [
    "len(Brand_desc)"
   ]
  },
  {
   "cell_type": "code",
   "execution_count": 114,
   "id": "8a327a4c",
   "metadata": {},
   "outputs": [
    {
     "data": {
      "text/plain": [
       "100"
      ]
     },
     "execution_count": 114,
     "metadata": {},
     "output_type": "execute_result"
    }
   ],
   "source": [
    "\n",
    "#81-100\n",
    "sun_brand_desc2= driver.find_elements(By.CLASS_NAME,'IRpwTa')\n",
    "m=0\n",
    "#Brand_desc= []\n",
    "for k in sun_brand_desc2:\n",
    "    Brand_desc.append(k.text)\n",
    "    m+=1\n",
    "    if m==20:\n",
    "        break\n",
    "len(Brand_desc)\n",
    "\n"
   ]
  },
  {
   "cell_type": "code",
   "execution_count": 115,
   "id": "89571849",
   "metadata": {},
   "outputs": [
    {
     "data": {
      "text/plain": [
       "['UV Protection Retro Square Sunglasses (60)',\n",
       " 'UV Protection Retro Square Sunglasses (Free Size)',\n",
       " 'UV Protection Wayfarer Sunglasses (Free Size)',\n",
       " 'UV Protection Rectangular Sunglasses (Free Size)',\n",
       " 'UV Protection Rectangular Sunglasses (52)',\n",
       " 'Gradient, UV Protection Wayfarer Sunglasses (Free Size)',\n",
       " 'UV Protection Wayfarer Sunglasses (Free Size)',\n",
       " 'UV Protection Round Sunglasses (Free Size)',\n",
       " 'Night Vision, UV Protection Round Sunglasses (54)',\n",
       " 'UV Protection Shield Sunglasses (Free Size)',\n",
       " 'Polarized, UV Protection Aviator Sunglasses (55)',\n",
       " 'UV Protection, Gradient Retro Square Sunglasses (Free S...',\n",
       " 'UV Protection Rectangular Sunglasses (Free Size)',\n",
       " 'UV Protection Wayfarer Sunglasses (50)',\n",
       " 'Mirrored, Night Vision, UV Protection, Riding Glasses S...',\n",
       " 'UV Protection, Polarized Wayfarer Sunglasses (Free Size...',\n",
       " 'UV Protection, Gradient Over-sized Sunglasses (60)',\n",
       " 'UV Protection Over-sized Sunglasses (60)',\n",
       " 'UV Protection Cat-eye, Retro Square, Oval, Round Sungla...',\n",
       " 'UV Protection Wayfarer Sunglasses (Free Size)',\n",
       " 'UV Protection, Gradient Butterfly Sunglasses (62)',\n",
       " 'UV Protection Aviator Sunglasses (50)',\n",
       " 'UV Protection Aviator Sunglasses (54)',\n",
       " 'Others Cat-eye, Retro Square, Wayfarer Sunglasses (54)',\n",
       " 'UV Protection, Polarized, Mirrored Rectangular Sunglass...',\n",
       " 'Polarized Retro Square Sunglasses (Free Size)',\n",
       " 'by Lenskart Polarized, UV Protection Rectangular Sungla...',\n",
       " 'UV Protection, Others Wayfarer Sunglasses (50)',\n",
       " 'UV Protection Aviator Sunglasses (Free Size)',\n",
       " 'Polarized, Riding Glasses Sports, Wrap-around Sunglasse...',\n",
       " 'UV Protection Rectangular, Retro Square Sunglasses (58)',\n",
       " 'UV Protection Over-sized Sunglasses (62)',\n",
       " 'Gradient, UV Protection Wayfarer Sunglasses (Free Size)',\n",
       " 'Gradient, UV Protection Wayfarer Sunglasses (Free Size)',\n",
       " 'UV Protection Wayfarer Sunglasses (Free Size)',\n",
       " 'UV Protection Aviator Sunglasses (Free Size)',\n",
       " 'by Lenskart Polarized, UV Protection Rectangular Sungla...',\n",
       " 'UV Protection Wayfarer, Aviator Sunglasses (88)',\n",
       " 'UV Protection Wayfarer Sunglasses (59)',\n",
       " 'UV Protection Aviator Sunglasses (54)',\n",
       " 'Polarized Retro Square Sunglasses (47)',\n",
       " 'UV Protection, Gradient Retro Square Sunglasses (62)',\n",
       " 'UV Protection Round Sunglasses (54)',\n",
       " 'UV Protection Aviator Sunglasses (58)',\n",
       " 'UV Protection Wayfarer Sunglasses (32)',\n",
       " 'UV Protection Aviator Sunglasses (58)',\n",
       " 'UV Protection, Polarized Rectangular Sunglasses (Free S...',\n",
       " 'UV Protection Spectacle Sunglasses (Free Size)',\n",
       " 'Polarized, UV Protection, Riding Glasses Wayfarer Sungl...',\n",
       " 'UV Protection Aviator Sunglasses (58)',\n",
       " 'UV Protection Rectangular Sunglasses (Free Size)',\n",
       " 'UV Protection, Gradient Rectangular Sunglasses (Free Si...',\n",
       " 'UV Protection Aviator Sunglasses (Free Size)',\n",
       " 'by Lenskart Polarized, UV Protection Cat-eye Sunglasses...',\n",
       " 'UV Protection Aviator Sunglasses (55)',\n",
       " 'Others Retro Square Sunglasses (Free Size)',\n",
       " 'UV Protection Cat-eye Sunglasses (52)',\n",
       " 'Gradient, UV Protection Round, Oval, Cat-eye Sunglasses...',\n",
       " 'Others Spectacle Sunglasses (Free Size)',\n",
       " 'UV Protection Retro Square Sunglasses (53)',\n",
       " 'Gradient, UV Protection Aviator Sunglasses (57)',\n",
       " 'UV Protection, Polarized Rectangular Sunglasses (Free S...',\n",
       " 'UV Protection Wayfarer Sunglasses (55)',\n",
       " 'Mirrored, UV Protection Wayfarer Sunglasses (Free Size)',\n",
       " 'Others Retro Square Sunglasses (Free Size)',\n",
       " 'Mirrored, UV Protection Wayfarer Sunglasses (Free Size)',\n",
       " 'UV Protection, Gradient Butterfly, Shield Sunglasses (6...',\n",
       " 'UV Protection, Polarized Round Sunglasses (54)',\n",
       " 'UV Protection Rectangular Sunglasses (Free Size)',\n",
       " 'UV Protection Shield Sunglasses (Free Size)',\n",
       " 'Polarized, UV Protection Round Sunglasses (55)',\n",
       " 'UV Protection Round Sunglasses (Free Size)',\n",
       " 'UV Protection Retro Square Sunglasses (54)',\n",
       " 'Polarized, UV Protection Round Sunglasses (50)',\n",
       " 'UV Protection Wayfarer Sunglasses (Free Size)',\n",
       " 'UV Protection Rectangular Sunglasses (Free Size)',\n",
       " 'UV Protection, Gradient Round Sunglasses (Free Size)',\n",
       " 'UV Protection Over-sized Sunglasses (65)',\n",
       " 'UV Protection Cat-eye Sunglasses (17)',\n",
       " 'UV Protection Rectangular Sunglasses (55)',\n",
       " 'UV Protection Rectangular Sunglasses (52)',\n",
       " 'UV Protection Rectangular Sunglasses (52)',\n",
       " 'UV Protection Rectangular Sunglasses (55)',\n",
       " 'UV Protection Aviator Sunglasses (18)',\n",
       " 'UV Protection Aviator Sunglasses (55)',\n",
       " 'Mirrored Aviator Sunglasses (55)',\n",
       " 'Polarized, Riding Glasses, UV Protection Wayfarer Sungl...',\n",
       " 'UV Protection Over-sized Sunglasses (64)',\n",
       " 'UV Protection, Night Vision Wayfarer Sunglasses (Free S...',\n",
       " 'UV Protection Wayfarer Sunglasses (Free Size)',\n",
       " 'UV Protection Rectangular, Over-sized Sunglasses (Free ...',\n",
       " 'Toughened Glass Lens, UV Protection, Riding Glasses, Ph...',\n",
       " 'UV Protection Aviator Sunglasses (55)',\n",
       " 'UV Protection Aviator Sunglasses (Free Size)',\n",
       " 'Night Vision, Riding Glasses Rectangular Sunglasses (60...',\n",
       " 'UV Protection, Gradient Rectangular Sunglasses (Free Si...',\n",
       " 'Polarized Wrap-around Sunglasses (45)',\n",
       " 'UV Protection Clubmaster Sunglasses (53)',\n",
       " 'UV Protection, Gradient Round Sunglasses (Free Size)',\n",
       " 'UV Protection Rectangular Sunglasses (56)']"
      ]
     },
     "execution_count": 115,
     "metadata": {},
     "output_type": "execute_result"
    }
   ],
   "source": [
    "Brand_desc"
   ]
  },
  {
   "cell_type": "code",
   "execution_count": 116,
   "id": "b243db5c",
   "metadata": {},
   "outputs": [],
   "source": [
    "clk_home=driver.find_element(By.CLASS_NAME,'ge-49M')\n",
    "clk_home.click()"
   ]
  },
  {
   "cell_type": "code",
   "execution_count": 127,
   "id": "5f6dac9a",
   "metadata": {},
   "outputs": [
    {
     "data": {
      "text/plain": [
       "40"
      ]
     },
     "execution_count": 127,
     "metadata": {},
     "output_type": "execute_result"
    }
   ],
   "source": [
    "#Extracting Price \n",
    "p1 = driver.find_elements(By.CLASS_NAME, \"_30jeq3\")\n",
    "Price=[]\n",
    "l=0\n",
    "for i in p1:\n",
    "    Price.append(i.text)\n",
    "    l+=1\n",
    "    if l==40:\n",
    "        break\n",
    "    \n",
    "len(Price)\n"
   ]
  },
  {
   "cell_type": "code",
   "execution_count": 128,
   "id": "74cac9ed",
   "metadata": {},
   "outputs": [],
   "source": [
    "#Clicking next page\n",
    "clk_next=driver.find_element(By.XPATH,'//*[@id=\"container\"]/div/div[3]/div[1]/div[2]/div[12]/div/div/nav/a[11]/span')\n",
    "clk_next.click()"
   ]
  },
  {
   "cell_type": "code",
   "execution_count": 129,
   "id": "60d0d46b",
   "metadata": {},
   "outputs": [
    {
     "data": {
      "text/plain": [
       "80"
      ]
     },
     "execution_count": 129,
     "metadata": {},
     "output_type": "execute_result"
    }
   ],
   "source": [
    "p2 = driver.find_elements(By.CLASS_NAME, \"_30jeq3\")\n",
    "\n",
    "l=0\n",
    "for i in p2:\n",
    "    Price.append(i.text)\n",
    "    l+=1\n",
    "    if l==40:\n",
    "        break\n",
    "    \n",
    "len(Price)"
   ]
  },
  {
   "cell_type": "code",
   "execution_count": 130,
   "id": "9e77b4d0",
   "metadata": {},
   "outputs": [
    {
     "data": {
      "text/plain": [
       "100"
      ]
     },
     "execution_count": 130,
     "metadata": {},
     "output_type": "execute_result"
    }
   ],
   "source": [
    "p3 = driver.find_elements(By.CLASS_NAME, \"_30jeq3\")\n",
    "\n",
    "l=0\n",
    "for i in p3:\n",
    "    Price.append(i.text)\n",
    "    l+=1\n",
    "    if l==20:\n",
    "        break\n",
    "    \n",
    "len(Price)"
   ]
  },
  {
   "cell_type": "code",
   "execution_count": 131,
   "id": "35eb1af2",
   "metadata": {},
   "outputs": [
    {
     "data": {
      "text/html": [
       "<div>\n",
       "<style scoped>\n",
       "    .dataframe tbody tr th:only-of-type {\n",
       "        vertical-align: middle;\n",
       "    }\n",
       "\n",
       "    .dataframe tbody tr th {\n",
       "        vertical-align: top;\n",
       "    }\n",
       "\n",
       "    .dataframe thead th {\n",
       "        text-align: right;\n",
       "    }\n",
       "</style>\n",
       "<table border=\"1\" class=\"dataframe\">\n",
       "  <thead>\n",
       "    <tr style=\"text-align: right;\">\n",
       "      <th></th>\n",
       "      <th>Brand</th>\n",
       "      <th>Description</th>\n",
       "      <th>Price</th>\n",
       "    </tr>\n",
       "  </thead>\n",
       "  <tbody>\n",
       "    <tr>\n",
       "      <th>0</th>\n",
       "      <td>PIRASO</td>\n",
       "      <td>UV Protection Retro Square Sunglasses (60)</td>\n",
       "      <td>₹404</td>\n",
       "    </tr>\n",
       "    <tr>\n",
       "      <th>1</th>\n",
       "      <td>RESIST EYEWEAR</td>\n",
       "      <td>UV Protection Retro Square Sunglasses (Free Size)</td>\n",
       "      <td>₹474</td>\n",
       "    </tr>\n",
       "    <tr>\n",
       "      <th>2</th>\n",
       "      <td>Fastrack</td>\n",
       "      <td>UV Protection Wayfarer Sunglasses (Free Size)</td>\n",
       "      <td>₹649</td>\n",
       "    </tr>\n",
       "    <tr>\n",
       "      <th>3</th>\n",
       "      <td>Fastrack</td>\n",
       "      <td>UV Protection Rectangular Sunglasses (Free Size)</td>\n",
       "      <td>₹519</td>\n",
       "    </tr>\n",
       "    <tr>\n",
       "      <th>4</th>\n",
       "      <td>Fastrack</td>\n",
       "      <td>UV Protection Rectangular Sunglasses (52)</td>\n",
       "      <td>₹199</td>\n",
       "    </tr>\n",
       "    <tr>\n",
       "      <th>...</th>\n",
       "      <td>...</td>\n",
       "      <td>...</td>\n",
       "      <td>...</td>\n",
       "    </tr>\n",
       "    <tr>\n",
       "      <th>95</th>\n",
       "      <td>ROZZETTA CRAFT</td>\n",
       "      <td>UV Protection, Gradient Rectangular Sunglasses...</td>\n",
       "      <td>₹359</td>\n",
       "    </tr>\n",
       "    <tr>\n",
       "      <th>96</th>\n",
       "      <td>PIRASO</td>\n",
       "      <td>Polarized Wrap-around Sunglasses (45)</td>\n",
       "      <td>₹466</td>\n",
       "    </tr>\n",
       "    <tr>\n",
       "      <th>97</th>\n",
       "      <td>ROYAL SON</td>\n",
       "      <td>UV Protection Clubmaster Sunglasses (53)</td>\n",
       "      <td>₹251</td>\n",
       "    </tr>\n",
       "    <tr>\n",
       "      <th>98</th>\n",
       "      <td>ROZZETTA CRAFT</td>\n",
       "      <td>UV Protection, Gradient Round Sunglasses (Free...</td>\n",
       "      <td>₹220</td>\n",
       "    </tr>\n",
       "    <tr>\n",
       "      <th>99</th>\n",
       "      <td>Fastrack</td>\n",
       "      <td>UV Protection Rectangular Sunglasses (56)</td>\n",
       "      <td>₹251</td>\n",
       "    </tr>\n",
       "  </tbody>\n",
       "</table>\n",
       "<p>100 rows × 3 columns</p>\n",
       "</div>"
      ],
      "text/plain": [
       "             Brand                                        Description Price\n",
       "0           PIRASO         UV Protection Retro Square Sunglasses (60)  ₹404\n",
       "1   RESIST EYEWEAR  UV Protection Retro Square Sunglasses (Free Size)  ₹474\n",
       "2         Fastrack      UV Protection Wayfarer Sunglasses (Free Size)  ₹649\n",
       "3         Fastrack   UV Protection Rectangular Sunglasses (Free Size)  ₹519\n",
       "4         Fastrack          UV Protection Rectangular Sunglasses (52)  ₹199\n",
       "..             ...                                                ...   ...\n",
       "95  ROZZETTA CRAFT  UV Protection, Gradient Rectangular Sunglasses...  ₹359\n",
       "96          PIRASO              Polarized Wrap-around Sunglasses (45)  ₹466\n",
       "97       ROYAL SON           UV Protection Clubmaster Sunglasses (53)  ₹251\n",
       "98  ROZZETTA CRAFT  UV Protection, Gradient Round Sunglasses (Free...  ₹220\n",
       "99        Fastrack          UV Protection Rectangular Sunglasses (56)  ₹251\n",
       "\n",
       "[100 rows x 3 columns]"
      ]
     },
     "execution_count": 131,
     "metadata": {},
     "output_type": "execute_result"
    }
   ],
   "source": [
    "#printing on a DataFramabse\n",
    "pd.DataFrame({'Brand':Brand,'Description':Brand_desc, 'Price':Price})\n"
   ]
  },
  {
   "cell_type": "markdown",
   "id": "c4e7c66b",
   "metadata": {},
   "source": [
    "## 5 Scrape 100 reviews data from flipkart.com for iphone11 phone. You have to go the link:"
   ]
  },
  {
   "cell_type": "code",
   "execution_count": 223,
   "id": "078df181",
   "metadata": {},
   "outputs": [],
   "source": [
    "\n",
    "\n",
    "#https://www.flipkart.com/apple-iphone-11-black-64-gb/product-reviews/itm4e5041ba101fd?pid=MOBFWQ6BXGJCEYNY&lid=LSTMOBFWQ6BXGJCEYNYZXSHRJ&marketplace=FLIPKART"
   ]
  },
  {
   "cell_type": "code",
   "execution_count": 316,
   "id": "4dd8f303",
   "metadata": {},
   "outputs": [],
   "source": [
    "# get webpage\n",
    "driver.get(\"https://www.flipkart.com/apple-iphone-11-black-64-gb/product-reviews/itm4e5041ba101fd?pid=MOBFWQ6BXGJCEYNY&lid=LSTMOBFWQ6BXGJCEYNYZXSHRJ&marketplace=FLIPKART\")\n",
    "time.sleep(2)\n",
    "#driver.maximize_window()"
   ]
  },
  {
   "cell_type": "code",
   "execution_count": 319,
   "id": "78ed4fe0",
   "metadata": {},
   "outputs": [],
   "source": [
    "# scrapping first 10 Product rating because next button is different\n",
    "rating_tag=[]\n",
    "start=0\n",
    "end=2\n",
    "for page in range(start,end):\n",
    "    rat=driver.find_elements(By.XPATH,'//div[@class=\"_3LWZlK _1BLPMq\"]')\n",
    "    for i in rat:\n",
    "        rating_tag.append(i.text)\n",
    "        \n",
    "        \n",
    "# scrapping first 10 Product summary because next button is different        \n",
    "review_summ=[]\n",
    "start=0\n",
    "end=2\n",
    "for page in range(start,end):\n",
    "    rev=driver.find_elements(By.XPATH,'//p[@class=\"_2-N8zT\"]')\n",
    "    for i in rev:\n",
    "        review_summ.append(i.text)\n",
    "        \n",
    "# scrapping first 10 Product comment because next button is different\n",
    "comments=[]\n",
    "start=0\n",
    "end=2\n",
    "for page in range(start,end):\n",
    "    com=driver.find_elements(By.XPATH,'//div[@class=\"t-ZTKy\"]')\n",
    "    for i in com:\n",
    "        comments.append(i.text)\n",
    "\n",
    "    next_button=driver.find_element(By.XPATH,'//a[@class=\"_1LKTO3\"]')\n",
    "    next_button.click()                     \n",
    "    time.sleep(5)"
   ]
  },
  {
   "cell_type": "code",
   "execution_count": 323,
   "id": "335351ef",
   "metadata": {},
   "outputs": [],
   "source": [
    "#Review 2-20\n",
    "driver.find_element(By.XPATH,'//*[@id=\"container\"]/div/div[3]/div/div/div[2]/div[13]/div/div/nav/a[11]/span').click()"
   ]
  },
  {
   "cell_type": "code",
   "execution_count": 324,
   "id": "307127c4",
   "metadata": {},
   "outputs": [],
   "source": [
    "#rating_tag=[]\n",
    "start=0\n",
    "end=2\n",
    "for page in range(start,end):\n",
    "    rat=driver.find_elements(By.XPATH,'//div[@class=\"_3LWZlK _1BLPMq\"]')\n",
    "    for i in rat:\n",
    "        rating_tag.append(i.text)\n",
    "        \n",
    "        \n",
    "# scrapping first 10 Product summary because next button is different        \n",
    "#review_summ=[]\n",
    "start=0\n",
    "end=2\n",
    "for page in range(start,end):\n",
    "    rev=driver.find_elements(By.XPATH,'//p[@class=\"_2-N8zT\"]')\n",
    "    for i in rev:\n",
    "        review_summ.append(i.text)\n",
    "        \n",
    "# scrapping first 10 Product comment because next button is different\n",
    "#comments=[]\n",
    "start=0\n",
    "end=2\n",
    "for page in range(start,end):\n",
    "    com=driver.find_elements(By.XPATH,'//div[@class=\"t-ZTKy\"]')\n",
    "    for i in com:\n",
    "        comments.append(i.text)\n",
    "\n",
    "    next_button=driver.find_element(By.XPATH,'//a[@class=\"_1LKTO3\"]')\n",
    "    next_button.click()                     \n",
    "    time.sleep(5)"
   ]
  },
  {
   "cell_type": "code",
   "execution_count": 325,
   "id": "5cc81ca8",
   "metadata": {},
   "outputs": [
    {
     "data": {
      "text/plain": [
       "(40, 40, 40)"
      ]
     },
     "execution_count": 325,
     "metadata": {},
     "output_type": "execute_result"
    }
   ],
   "source": [
    "#first 20 products\n",
    "len(review_summ),len(comments),len(rating_tag)"
   ]
  },
  {
   "cell_type": "code",
   "execution_count": 326,
   "id": "68da84cd",
   "metadata": {},
   "outputs": [
    {
     "data": {
      "text/html": [
       "<div>\n",
       "<style scoped>\n",
       "    .dataframe tbody tr th:only-of-type {\n",
       "        vertical-align: middle;\n",
       "    }\n",
       "\n",
       "    .dataframe tbody tr th {\n",
       "        vertical-align: top;\n",
       "    }\n",
       "\n",
       "    .dataframe thead th {\n",
       "        text-align: right;\n",
       "    }\n",
       "</style>\n",
       "<table border=\"1\" class=\"dataframe\">\n",
       "  <thead>\n",
       "    <tr style=\"text-align: right;\">\n",
       "      <th></th>\n",
       "      <th>Ratings</th>\n",
       "      <th>Review summary</th>\n",
       "      <th>Full review</th>\n",
       "    </tr>\n",
       "  </thead>\n",
       "  <tbody>\n",
       "    <tr>\n",
       "      <th>0</th>\n",
       "      <td>5</td>\n",
       "      <td>Simply awesome</td>\n",
       "      <td>Really satisfied with the Product I received.....</td>\n",
       "    </tr>\n",
       "    <tr>\n",
       "      <th>1</th>\n",
       "      <td>4</td>\n",
       "      <td>Value-for-money</td>\n",
       "      <td>I'm Really happy with the product\\nDelivery wa...</td>\n",
       "    </tr>\n",
       "    <tr>\n",
       "      <th>2</th>\n",
       "      <td>5</td>\n",
       "      <td>Perfect product!</td>\n",
       "      <td>Amazing phone with great cameras and better ba...</td>\n",
       "    </tr>\n",
       "    <tr>\n",
       "      <th>3</th>\n",
       "      <td>5</td>\n",
       "      <td>Best in the market!</td>\n",
       "      <td>Great iPhone very snappy experience as apple k...</td>\n",
       "    </tr>\n",
       "    <tr>\n",
       "      <th>4</th>\n",
       "      <td>5</td>\n",
       "      <td>Highly recommended</td>\n",
       "      <td>It's my first time to use iOS phone and I am l...</td>\n",
       "    </tr>\n",
       "  </tbody>\n",
       "</table>\n",
       "</div>"
      ],
      "text/plain": [
       "  Ratings       Review summary  \\\n",
       "0       5       Simply awesome   \n",
       "1       4      Value-for-money   \n",
       "2       5     Perfect product!   \n",
       "3       5  Best in the market!   \n",
       "4       5   Highly recommended   \n",
       "\n",
       "                                         Full review  \n",
       "0  Really satisfied with the Product I received.....  \n",
       "1  I'm Really happy with the product\\nDelivery wa...  \n",
       "2  Amazing phone with great cameras and better ba...  \n",
       "3  Great iPhone very snappy experience as apple k...  \n",
       "4  It's my first time to use iOS phone and I am l...  "
      ]
     },
     "execution_count": 326,
     "metadata": {},
     "output_type": "execute_result"
    }
   ],
   "source": [
    "# creating dataframe\n",
    "df=pd.DataFrame({'Ratings':rating_tag,'Review summary':review_summ,'Full review':comments})\n",
    "df.head()"
   ]
  },
  {
   "cell_type": "markdown",
   "id": "6ac94389",
   "metadata": {},
   "source": [
    "## 6. Scrape data for first 100 sneakers you find when you visit flipkart.com and search for “sneakers” in the search field."
   ]
  },
  {
   "cell_type": "code",
   "execution_count": 328,
   "id": "42d0cacd",
   "metadata": {},
   "outputs": [],
   "source": [
    "driver.get(\"https://www.flipkart.com/\")"
   ]
  },
  {
   "cell_type": "code",
   "execution_count": 330,
   "id": "19c6218b",
   "metadata": {},
   "outputs": [],
   "source": [
    "#Closing the login subscreen\n",
    "search_btn=driver.find_element(By.XPATH,'/html/body/div[2]/div/div/button')\n",
    "search_btn.click()"
   ]
  },
  {
   "cell_type": "code",
   "execution_count": 331,
   "id": "328910e9",
   "metadata": {},
   "outputs": [],
   "source": [
    "driver.find_element(By.CLASS_NAME,'_3704LK').send_keys('sneakers')"
   ]
  },
  {
   "cell_type": "code",
   "execution_count": 333,
   "id": "56133722",
   "metadata": {},
   "outputs": [],
   "source": [
    "driver.find_element(By.XPATH,'/html/body/div[1]/div/div[1]/div[1]/div[2]/div[2]/form/div/button').click()"
   ]
  },
  {
   "cell_type": "code",
   "execution_count": 334,
   "id": "fa4f34a6",
   "metadata": {},
   "outputs": [],
   "source": [
    "# scrapping first 100 Brand Names\n",
    "Brand_names=[]\n",
    "start=0\n",
    "end=3\n",
    "for page in range(start,end):\n",
    "    brand=driver.find_elements(By.XPATH,'//div[@class=\"_2WkVRV\"]')\n",
    "    for i in brand:\n",
    "        Brand_names.append(i.text)   \n",
    "\n",
    "# scrapping first 100 shoe discription\n",
    "Product_dist=[]\n",
    "start=0\n",
    "end=3\n",
    "for page in range(start,end):\n",
    "    prod=driver.find_elements(By.XPATH,'//a[@class=\"IRpwTa\"]')\n",
    "    for i in prod:\n",
    "        Product_dist.append(i.text)\n",
    "    prod=driver.find_elements(By.XPATH,'//a[@class=\"IRpwTa _2-ICcC\"]')    \n",
    "    for j in prod:\n",
    "        Product_dist.append(i.text)\n",
    "\n",
    "\n",
    "# scrapping first 100 shoe price\n",
    "shoe_price=[]\n",
    "start=0\n",
    "end=3\n",
    "for page in range(start,end):\n",
    "    shoe=driver.find_elements(By.XPATH,'//div[@class=\"_30jeq3\"]')\n",
    "    for i in shoe:\n",
    "        shoe_price.append(i.text)\n",
    "\n",
    "\n",
    "# scrapping first 100 shoe discount\n",
    "discount_tag=[]\n",
    "start=0\n",
    "end=3\n",
    "for page in range(start,end):\n",
    "    dis=driver.find_elements(By.XPATH,'//div[@class=\"_3Ay6Sb\"]')\n",
    "    for i in dis:\n",
    "        discount_tag.append(i.text)\n",
    "    next_button=driver.find_element(By.XPATH,'//a[@class=\"_1LKTO3\"]')\n",
    "    next_button.click()\n",
    "    time.sleep(3)"
   ]
  },
  {
   "cell_type": "code",
   "execution_count": 335,
   "id": "1def0556",
   "metadata": {},
   "outputs": [
    {
     "data": {
      "text/html": [
       "<div>\n",
       "<style scoped>\n",
       "    .dataframe tbody tr th:only-of-type {\n",
       "        vertical-align: middle;\n",
       "    }\n",
       "\n",
       "    .dataframe tbody tr th {\n",
       "        vertical-align: top;\n",
       "    }\n",
       "\n",
       "    .dataframe thead th {\n",
       "        text-align: right;\n",
       "    }\n",
       "</style>\n",
       "<table border=\"1\" class=\"dataframe\">\n",
       "  <thead>\n",
       "    <tr style=\"text-align: right;\">\n",
       "      <th></th>\n",
       "      <th>Brand</th>\n",
       "      <th>Product Description</th>\n",
       "      <th>Price</th>\n",
       "      <th>Discounts</th>\n",
       "    </tr>\n",
       "  </thead>\n",
       "  <tbody>\n",
       "    <tr>\n",
       "      <th>0</th>\n",
       "      <td>Perma</td>\n",
       "      <td>Sneakers For Men</td>\n",
       "      <td>₹570</td>\n",
       "      <td>61% off</td>\n",
       "    </tr>\n",
       "    <tr>\n",
       "      <th>1</th>\n",
       "      <td>Kraasa</td>\n",
       "      <td>Sneakers For Men</td>\n",
       "      <td>₹499</td>\n",
       "      <td>50% off</td>\n",
       "    </tr>\n",
       "    <tr>\n",
       "      <th>2</th>\n",
       "      <td>RED TAPE</td>\n",
       "      <td>Sneakers For Men</td>\n",
       "      <td>₹1,149</td>\n",
       "      <td>77% off</td>\n",
       "    </tr>\n",
       "    <tr>\n",
       "      <th>3</th>\n",
       "      <td>Labbin</td>\n",
       "      <td>Sneakers For Men</td>\n",
       "      <td>₹395</td>\n",
       "      <td>60% off</td>\n",
       "    </tr>\n",
       "    <tr>\n",
       "      <th>4</th>\n",
       "      <td>Robbie jones</td>\n",
       "      <td>Lightweight Pack Of 1 Trendy Sneakers Sneakers...</td>\n",
       "      <td>₹349</td>\n",
       "      <td>65% off</td>\n",
       "    </tr>\n",
       "    <tr>\n",
       "      <th>...</th>\n",
       "      <td>...</td>\n",
       "      <td>...</td>\n",
       "      <td>...</td>\n",
       "      <td>...</td>\n",
       "    </tr>\n",
       "    <tr>\n",
       "      <th>95</th>\n",
       "      <td>aadi</td>\n",
       "      <td>Trendy-21 White Color Change Sneakers,Casuals,...</td>\n",
       "      <td>₹299</td>\n",
       "      <td>85% off</td>\n",
       "    </tr>\n",
       "    <tr>\n",
       "      <th>96</th>\n",
       "      <td>PUMA</td>\n",
       "      <td>fuzor B Sneakers For Men</td>\n",
       "      <td>₹2,279</td>\n",
       "      <td>62% off</td>\n",
       "    </tr>\n",
       "    <tr>\n",
       "      <th>97</th>\n",
       "      <td>asian</td>\n",
       "      <td>Sneakers For Women</td>\n",
       "      <td>₹599</td>\n",
       "      <td>65% off</td>\n",
       "    </tr>\n",
       "    <tr>\n",
       "      <th>98</th>\n",
       "      <td>asics</td>\n",
       "      <td>Vega Sweet v2 Sneakers For Women</td>\n",
       "      <td>₹1,427</td>\n",
       "      <td>62% off</td>\n",
       "    </tr>\n",
       "    <tr>\n",
       "      <th>99</th>\n",
       "      <td>Deals4you</td>\n",
       "      <td>Morden Comfertable Sneakers For Men</td>\n",
       "      <td>₹363</td>\n",
       "      <td>63% off</td>\n",
       "    </tr>\n",
       "  </tbody>\n",
       "</table>\n",
       "<p>100 rows × 4 columns</p>\n",
       "</div>"
      ],
      "text/plain": [
       "           Brand                                Product Description   Price  \\\n",
       "0          Perma                                   Sneakers For Men    ₹570   \n",
       "1         Kraasa                                   Sneakers For Men    ₹499   \n",
       "2       RED TAPE                                   Sneakers For Men  ₹1,149   \n",
       "3         Labbin                                   Sneakers For Men    ₹395   \n",
       "4   Robbie jones  Lightweight Pack Of 1 Trendy Sneakers Sneakers...    ₹349   \n",
       "..           ...                                                ...     ...   \n",
       "95          aadi  Trendy-21 White Color Change Sneakers,Casuals,...    ₹299   \n",
       "96          PUMA                           fuzor B Sneakers For Men  ₹2,279   \n",
       "97         asian                                 Sneakers For Women    ₹599   \n",
       "98         asics                   Vega Sweet v2 Sneakers For Women  ₹1,427   \n",
       "99     Deals4you                Morden Comfertable Sneakers For Men    ₹363   \n",
       "\n",
       "   Discounts  \n",
       "0    61% off  \n",
       "1    50% off  \n",
       "2    77% off  \n",
       "3    60% off  \n",
       "4    65% off  \n",
       "..       ...  \n",
       "95   85% off  \n",
       "96   62% off  \n",
       "97   65% off  \n",
       "98   62% off  \n",
       "99   63% off  \n",
       "\n",
       "[100 rows x 4 columns]"
      ]
     },
     "execution_count": 335,
     "metadata": {},
     "output_type": "execute_result"
    }
   ],
   "source": [
    "# creating dataframe\n",
    "df=pd.DataFrame({'Brand':Brand_names,'Product Description':Product_dist,'Price':shoe_price,'Discounts':discount_tag})\n",
    "df.head(100)"
   ]
  },
  {
   "cell_type": "code",
   "execution_count": null,
   "id": "176bef72",
   "metadata": {},
   "outputs": [],
   "source": []
  },
  {
   "cell_type": "markdown",
   "id": "a119db80",
   "metadata": {},
   "source": [
    "## 7. Go to the link - https://www.myntra.com/shoes\n",
    "Set second Price filter and Color filter to “Black”, as shown in the below image.\n",
    "And"
   ]
  },
  {
   "cell_type": "code",
   "execution_count": 337,
   "id": "3ec5f664",
   "metadata": {},
   "outputs": [],
   "source": [
    "#open the link \n",
    "url='https://www.myntra.com/shoes'\n",
    "driver.get(url)"
   ]
  },
  {
   "cell_type": "code",
   "execution_count": 338,
   "id": "23d302a2",
   "metadata": {},
   "outputs": [],
   "source": [
    "# filtering by price\n",
    "\n",
    "sal_fil=driver.find_element(By.XPATH,'/html/body/div[2]/div/main/div[3]/div[1]/section/div/div[5]/ul/li[2]/label/div')\n",
    "sal_fil.click()"
   ]
  },
  {
   "cell_type": "code",
   "execution_count": 339,
   "id": "04a17723",
   "metadata": {},
   "outputs": [],
   "source": [
    "# filtering by black color\n",
    "\n",
    "sal_fil=driver.find_element(By.XPATH,'/html/body/div[2]/div/main/div[3]/div[1]/section/div/div[6]/ul/li[1]/label/div')\n",
    "sal_fil.click()"
   ]
  },
  {
   "cell_type": "code",
   "execution_count": 340,
   "id": "2a5a36a6",
   "metadata": {},
   "outputs": [],
   "source": [
    "# 100 product names\n",
    "Brand_names=[]\n",
    "start=0\n",
    "end=2\n",
    "for page in range(start,end):\n",
    "    rat=driver.find_elements(By.XPATH,'//h3[@class=\"product-brand\"]')\n",
    "    for i in rat:\n",
    "        Brand_names.append(i.text)\n",
    "        \n",
    "## scrapping 100 product       \n",
    "discription=[]\n",
    "start=0\n",
    "end=2\n",
    "for page in range(start,end):\n",
    "    rev=driver.find_elements(By.XPATH,'//h4[@class=\"product-product\"]')\n",
    "    for i in rev:\n",
    "        discription.append(i.text)\n",
    "        \n",
    "# 100 product price\n",
    "price=[]\n",
    "start=0\n",
    "end=2\n",
    "for page in range(start,end):\n",
    "    com=driver.find_elements(By.XPATH,'//div[@class=\"product-price\"]')\n",
    "    for i in com:\n",
    "        price.append(i.text)\n",
    "    next_button=driver.find_element(By.XPATH,'//li[@class=\"pagination-next\"]')\n",
    "    next_button.click()\n",
    "    time.sleep(5)"
   ]
  },
  {
   "cell_type": "code",
   "execution_count": 341,
   "id": "e5acb698",
   "metadata": {},
   "outputs": [
    {
     "data": {
      "text/html": [
       "<div>\n",
       "<style scoped>\n",
       "    .dataframe tbody tr th:only-of-type {\n",
       "        vertical-align: middle;\n",
       "    }\n",
       "\n",
       "    .dataframe tbody tr th {\n",
       "        vertical-align: top;\n",
       "    }\n",
       "\n",
       "    .dataframe thead th {\n",
       "        text-align: right;\n",
       "    }\n",
       "</style>\n",
       "<table border=\"1\" class=\"dataframe\">\n",
       "  <thead>\n",
       "    <tr style=\"text-align: right;\">\n",
       "      <th></th>\n",
       "      <th>Brand</th>\n",
       "      <th>Product Description</th>\n",
       "      <th>Price</th>\n",
       "    </tr>\n",
       "  </thead>\n",
       "  <tbody>\n",
       "    <tr>\n",
       "      <th>0</th>\n",
       "      <td>Nike</td>\n",
       "      <td>JORDAN MAX AURA 4 Shoes</td>\n",
       "      <td>Rs. 10165Rs. 11295(10% OFF)</td>\n",
       "    </tr>\n",
       "    <tr>\n",
       "      <th>1</th>\n",
       "      <td>UNDER ARMOUR</td>\n",
       "      <td>Men HOVR SonicSE Running Shoes</td>\n",
       "      <td>Rs. 9999</td>\n",
       "    </tr>\n",
       "    <tr>\n",
       "      <th>2</th>\n",
       "      <td>UNDER ARMOUR</td>\n",
       "      <td>Men ChargedEscape 3 BL Running</td>\n",
       "      <td>Rs. 8999</td>\n",
       "    </tr>\n",
       "    <tr>\n",
       "      <th>3</th>\n",
       "      <td>Nike</td>\n",
       "      <td>JORDAN ZION 2 Basketball Shoes</td>\n",
       "      <td>Rs. 9175Rs. 10795(15% OFF)</td>\n",
       "    </tr>\n",
       "    <tr>\n",
       "      <th>4</th>\n",
       "      <td>Nike</td>\n",
       "      <td>AIR ZOOM G.T. Basketball Shoes</td>\n",
       "      <td>Rs. 13595Rs. 15995(15% OFF)</td>\n",
       "    </tr>\n",
       "  </tbody>\n",
       "</table>\n",
       "</div>"
      ],
      "text/plain": [
       "          Brand             Product Description                        Price\n",
       "0          Nike         JORDAN MAX AURA 4 Shoes  Rs. 10165Rs. 11295(10% OFF)\n",
       "1  UNDER ARMOUR  Men HOVR SonicSE Running Shoes                     Rs. 9999\n",
       "2  UNDER ARMOUR  Men ChargedEscape 3 BL Running                     Rs. 8999\n",
       "3          Nike  JORDAN ZION 2 Basketball Shoes   Rs. 9175Rs. 10795(15% OFF)\n",
       "4          Nike  AIR ZOOM G.T. Basketball Shoes  Rs. 13595Rs. 15995(15% OFF)"
      ]
     },
     "execution_count": 341,
     "metadata": {},
     "output_type": "execute_result"
    }
   ],
   "source": [
    "# creating dataframe\n",
    "df=pd.DataFrame({'Brand':Brand_names,'Product Description':discription,'Price':price})\n",
    "df.head()"
   ]
  },
  {
   "cell_type": "markdown",
   "id": "b9f01539",
   "metadata": {},
   "source": [
    "## 8 Go to webpage https://www.amazon.in/, Enter “Laptop” in the search field and then click the search icon, Then set CPU Type filter to “Intel Core i7” as shown in the below image:"
   ]
  },
  {
   "cell_type": "code",
   "execution_count": 268,
   "id": "05e6cc64",
   "metadata": {},
   "outputs": [],
   "source": [
    "driver.get('https://www.amazon.in/')"
   ]
  },
  {
   "cell_type": "code",
   "execution_count": 270,
   "id": "ae54f186",
   "metadata": {},
   "outputs": [],
   "source": [
    "driver.find_element(By.XPATH,'/html/body/div[1]/header/div/div[1]/div[2]/div/form/div[2]/div[1]/input').send_keys('Laptop')"
   ]
  },
  {
   "cell_type": "code",
   "execution_count": 272,
   "id": "1db3782f",
   "metadata": {},
   "outputs": [],
   "source": [
    "driver.find_element(By.XPATH,'/html/body/div[1]/header/div/div[1]/div[2]/div/form/div[3]/div/span/input').click()"
   ]
  },
  {
   "cell_type": "code",
   "execution_count": 275,
   "id": "47675477",
   "metadata": {},
   "outputs": [],
   "source": [
    "# we select 'i7 processor'  option of laptop \n",
    "\n",
    "i7= driver.find_element(By.XPATH,'//*[@id=\"p_n_feature_thirteen_browse-bin/12598163031\"]/span/a/div')\n",
    "i7.click()"
   ]
  },
  {
   "cell_type": "code",
   "execution_count": 278,
   "id": "ec68a9de",
   "metadata": {},
   "outputs": [
    {
     "data": {
      "text/plain": [
       "['Lenovo IdeaPad Slim 5 12th Gen Intel Core i7 15.6\"(39.62cm) FHD IPS Laptop (16GB/512GB SSD/Win 11/Office 2021/Backlit KB/Fingerprint/FHD Camera/Alexa/3 Month Game Pass/Storm Grey/1.85Kg), 82SF004XIN',\n",
       " 'HP Pavilion x360 11th Gen Intel Core i7 14 inch(35.6 cm) FHD,IPS, Multitouch 2-in-1 Laptop(16GB RAM/512GB SSD/Backlit KB/Intel Iris Xe Graphics/Pen/Alexa Built-in/MSO/1.52Kg) 14-dy1050TU, Spruce Blue',\n",
       " '(Renewed) HP ProBook 430 G3 6th Gen Intel Core i7 Thin & Light HD Laptop (8 GB DDR4 RAM/256 GB SSD/13.3\" (33.8 cm)/Windows 11/MS Office/Wifi/Bluetooth 4.0/Webcam/Integrated Graphics)',\n",
       " 'HP Victus 12th Gen Intel Core i7 15.6 inch(39.6 cm) FHD Gaming Laptop (16GB RAM/512GB SSD/RTX 3050Ti 4GB Graphics/144Hz/9ms Response Time/Win 11/MSO/Backlit KB/B&O Audio/XBOX Pass(30 day)),15-fa0354TX',\n",
       " 'Lenovo ThinkBook 15 Intel 11th Gen Core i7 15.6\"(39.62 cm) FHD Thin and Light Laptop (16GB/512GB SSD/Windows 11 Home/MS Office H&S 2021/Iris® Xe Graphics/Backlit/Mineral Grey/1.7 Kg) 20VE00W4IH',\n",
       " '(Renewed) HP Workstation Zbook Intel Core i7-4810MQ Quad Core Processor , 4 GB Ram & 128 GB SSD, 15.6 Inches with Intel & Nvidia K2100M Dual Graphics with FHD Screen 1080p Laptop Computer',\n",
       " '(Renewed) ASUS TUF Gaming F15 (2022), 15.6-inch (39.62 cms) FHD 300Hz, Intel Core i7-12700H 12th Gen, RTX 3060 6GB Graphics, Gaming Laptop (16GB/1TB SSD/Windows 11/Office 2021/Gray/2.2 Kg), FX507ZM-HF068WS',\n",
       " '(Renewed) HP Workstation Zbook Intel Core i7-4810MQ Quad Core Processor , 8 GB Ram & 256 GB SSD, 15.6 Inches with Intel & Nvidia K2100M Dual Graphics with FHD Screen 1080p Laptop Computer',\n",
       " '(Renewed) HP Workstation Zbook Intel Core i7-4810MQ Quad Core Processor , 32 GB Ram & 128 GB SSD, 15.6 Inches with Intel & Nvidia K2100M Dual Graphics with FHD Screen 1080p Laptop Computer',\n",
       " 'Lenovo ThinkBook 15 Intel 12th Gen Core i7 15.6\" (39.62cm) FHD 250 nits Antiglare Thin and Light Laptop (16GB/512GB SSD/Windows 11 Home/MS Office H&S 2021/Backlit/Mineral Grey/1.7 Kg), 21DJA04NIH',\n",
       " 'Lenovo IdeaPad Flex 5 Intel Core i7 11th Gen 14\" (35.56cm) FHD IPS 2-in-1 Convertible Touchscreen Laptop (16GB/512GB SDD/Win11/Office 2021/Backlit/FPR/3months Game Pass/Graphite Grey/1.5Kg),82HS018XIN',\n",
       " '(Renewed) Fujitsu UH-X 12th Gen Intel Evo Core i7 13.3 inch(33cm) FHD IPS 400Nits Thin & Light Laptop(16GB/512GB SSD/Windows11/Office/Iris Xe Graphics/Backlit/Fingerprint Reader/White/878gm)4ZR1K06212 w/ Sleeve',\n",
       " '(Renewed) HP Workstation Zbook Intel Core i7-4810MQ Quad Core Processor , 32 GB Ram & 1TB SSD, 15.6 Inches with Intel & Nvidia K2100M Dual Graphics with FHD Screen 1080p Laptop Computer',\n",
       " '(Renewed) HP ProBook 430 G3 6th Gen Intel Core i7 Thin & Light HD Laptop (8 GB DDR4 RAM/500 GB HDD/13.3\" (33.8 cm)/Windows 11/MS Office/Wifi/Bluetooth 4.0/Webcam/Integrated Graphics)',\n",
       " '(Renewed) Lenovo Intel Core i7 5600U 12.5-Inch (31.75 cms) HD (1366 X 768) Laptop (8 GB/256 GB SSD/Windows 10/Intel HD 5500//1.53 Kg), Lenovo X250',\n",
       " '(Renewed) HP Pavilion x360 11th Gen Intel Core i7 14 inch(35.6 cm) FHD,IPS, Multitouch 2-in-1 Laptop(16GB RAM/512GB SSD/Backlit KB/Intel Iris Xe Graphics/Pen/Alexa Built-in/MSO/1.52Kg) 14-dy1050TU, Spruce Blue',\n",
       " 'Lenovo ThinkBook 15 Intel 11th Gen Core i7 15.6\" (39.62 cm) FHD IPS 300 nits Antiglare 100% sRGB Thin and Light Laptop (16GB/1TB HDD+128GB SSD/Windows 10/MS Office/1 Yr Onsite/1.7 Kg), 20VEA0HBIH',\n",
       " 'Lenovo Ideapad Gaming 3 Intel Core i7 10th Gen 15.6\"(39.62cm) FHD IPS Gaming Laptop (8GB/512GB SSD/4GB NVIDIA GTX 1650/120Hz/Windows 11/Backlit Keyboard/3months Game Pass/Onyx Black/2.2Kg), 81Y401BHIN',\n",
       " 'Acer Nitro Intel 5 Core i7 11th Gen 15.6\" (39.62cms) Full HD IPS Gaming Laptop 16 GB/256GB SSD/1 TB HDD/Win 11/4 GB Graphics/NVIDIA GeForce RTX 3050 Ti/144 Hz, Black, 2.4 kg AN515-57, Windows 11 Home',\n",
       " '(Renewed) LifeDigital Intel Core i7 15.6 inches Laptop (4GB RAM, 256GB SSD, Windows 10), ZED AIR CX7, 1.8Kg',\n",
       " '(Renewed) HP Workstation Zbook Intel Core i7-4810MQ Quad Core Processor , 16 GB Ram & 128 GB SSD, 15.6 Inches with Intel & Nvidia K2100M Dual Graphics with FHD Screen 1080p Laptop Computer',\n",
       " '(Renewed) Dell 7480 Intel Core i7 14-Inch (35.56 cms) Full HD (1920 X 1080) Laptop (16 GB/256 SSD/Windows 10 Pro/Integrated_graphics/Black/2.16 Kg), TFJ45',\n",
       " 'MSI Modern 14, Intel i7-1165G7, 14\" FHD IPS-Level 60Hz Panel Laptop (8GB/512GB NVMe SSD/Windows 10 Home/Intel UHD Graphics/Carbon Grey/1.3Kg), B11MOU-473IN',\n",
       " '(Renewed) Lenovo IdeaPad Flex 5 11th Gen Intel Core i7 14\" FHD 2-in-1 Convertible Laptop (16 GB/512GB SDD/Windows 11/MS Office 2021/Backlit Keyboard /3months Xbox Game Pass/Graphite Grey/1.5Kg), 82HS018XIN']"
      ]
     },
     "execution_count": 278,
     "metadata": {},
     "output_type": "execute_result"
    }
   ],
   "source": [
    "#Names\n",
    "tit= driver.find_elements(By.XPATH,'//span[@class= \"a-size-medium a-color-base a-text-normal\"]')\n",
    "\n",
    "t1= []\n",
    "title= []\n",
    "for i in tit:\n",
    "    t1.append(i.text)\n",
    "t1"
   ]
  },
  {
   "cell_type": "code",
   "execution_count": 279,
   "id": "116cfb19",
   "metadata": {},
   "outputs": [],
   "source": [
    "for n in t1:\n",
    "    title.append(n[0:20])"
   ]
  },
  {
   "cell_type": "code",
   "execution_count": 281,
   "id": "82fbf1e1",
   "metadata": {},
   "outputs": [],
   "source": [
    "price = driver.find_elements(By.XPATH,'//span[@class= \"a-price-whole\"]')\n",
    "\n",
    "Price= []\n",
    "for i in price:\n",
    "    Price.append(i.text)"
   ]
  },
  {
   "cell_type": "code",
   "execution_count": 282,
   "id": "4695729e",
   "metadata": {},
   "outputs": [
    {
     "data": {
      "text/html": [
       "<div>\n",
       "<style scoped>\n",
       "    .dataframe tbody tr th:only-of-type {\n",
       "        vertical-align: middle;\n",
       "    }\n",
       "\n",
       "    .dataframe tbody tr th {\n",
       "        vertical-align: top;\n",
       "    }\n",
       "\n",
       "    .dataframe thead th {\n",
       "        text-align: right;\n",
       "    }\n",
       "</style>\n",
       "<table border=\"1\" class=\"dataframe\">\n",
       "  <thead>\n",
       "    <tr style=\"text-align: right;\">\n",
       "      <th></th>\n",
       "      <th>Title</th>\n",
       "      <th>Price</th>\n",
       "    </tr>\n",
       "  </thead>\n",
       "  <tbody>\n",
       "    <tr>\n",
       "      <th>0</th>\n",
       "      <td>Lenovo IdeaPad Slim</td>\n",
       "      <td>83,990</td>\n",
       "    </tr>\n",
       "    <tr>\n",
       "      <th>1</th>\n",
       "      <td>HP Pavilion x360 11t</td>\n",
       "      <td>80,490</td>\n",
       "    </tr>\n",
       "    <tr>\n",
       "      <th>2</th>\n",
       "      <td>(Renewed) HP ProBook</td>\n",
       "      <td>25,895</td>\n",
       "    </tr>\n",
       "    <tr>\n",
       "      <th>3</th>\n",
       "      <td>HP Victus 12th Gen I</td>\n",
       "      <td>97,500</td>\n",
       "    </tr>\n",
       "    <tr>\n",
       "      <th>4</th>\n",
       "      <td>Lenovo ThinkBook 15</td>\n",
       "      <td>77,990</td>\n",
       "    </tr>\n",
       "    <tr>\n",
       "      <th>5</th>\n",
       "      <td>(Renewed) HP Worksta</td>\n",
       "      <td>21,990</td>\n",
       "    </tr>\n",
       "    <tr>\n",
       "      <th>6</th>\n",
       "      <td>(Renewed) ASUS TUF G</td>\n",
       "      <td>1,02,240</td>\n",
       "    </tr>\n",
       "    <tr>\n",
       "      <th>7</th>\n",
       "      <td>(Renewed) HP Worksta</td>\n",
       "      <td>25,990</td>\n",
       "    </tr>\n",
       "    <tr>\n",
       "      <th>8</th>\n",
       "      <td>(Renewed) HP Worksta</td>\n",
       "      <td>41,990</td>\n",
       "    </tr>\n",
       "    <tr>\n",
       "      <th>9</th>\n",
       "      <td>Lenovo ThinkBook 15</td>\n",
       "      <td>86,490</td>\n",
       "    </tr>\n",
       "  </tbody>\n",
       "</table>\n",
       "</div>"
      ],
      "text/plain": [
       "                  Title     Price\n",
       "0  Lenovo IdeaPad Slim     83,990\n",
       "1  HP Pavilion x360 11t    80,490\n",
       "2  (Renewed) HP ProBook    25,895\n",
       "3  HP Victus 12th Gen I    97,500\n",
       "4  Lenovo ThinkBook 15     77,990\n",
       "5  (Renewed) HP Worksta    21,990\n",
       "6  (Renewed) ASUS TUF G  1,02,240\n",
       "7  (Renewed) HP Worksta    25,990\n",
       "8  (Renewed) HP Worksta    41,990\n",
       "9  Lenovo ThinkBook 15     86,490"
      ]
     },
     "execution_count": 282,
     "metadata": {},
     "output_type": "execute_result"
    }
   ],
   "source": [
    "df= pd.DataFrame({'Title':title, 'Price':Price, })\n",
    "df[0:10]"
   ]
  },
  {
   "cell_type": "markdown",
   "id": "1699c7b4",
   "metadata": {},
   "source": [
    "## 9 Write a python program to scrape data for Top 1000 Quotes of All Time."
   ]
  },
  {
   "cell_type": "code",
   "execution_count": 290,
   "id": "3b89bcee",
   "metadata": {},
   "outputs": [],
   "source": [
    "driver.get('https://www.azquotes.com/')"
   ]
  },
  {
   "cell_type": "code",
   "execution_count": 291,
   "id": "6ea5858b",
   "metadata": {},
   "outputs": [],
   "source": [
    "#Top Quotes click\n",
    "\n",
    "driver.find_element(By.XPATH,'//*[@id=\"menu\"]/div/div[3]/ul/li[5]/a').click()"
   ]
  },
  {
   "cell_type": "code",
   "execution_count": 294,
   "id": "b7ef885a",
   "metadata": {},
   "outputs": [],
   "source": [
    "# scrapping 1000 qoute\n",
    "title_tag=[]\n",
    "start=0\n",
    "end=10\n",
    "for page in range(start,end):\n",
    "    rat=driver.find_elements(By.XPATH,'//a[@class=\"title\"]')\n",
    "    for i in rat:\n",
    "        title_tag.append(i.text)\n",
    "        \n",
    "## scrapping 1000 author     \n",
    "author_summ=[]\n",
    "start=0\n",
    "end=10\n",
    "for page in range(start,end):\n",
    "    rev=driver.find_elements(By.XPATH,'//div[@class=\"author\"]')\n",
    "    for i in rev:\n",
    "        author_summ.append(i.text)\n",
    "        \n",
    "# scrapping 1000 type of qoute\n",
    "tag=[]\n",
    "start=0\n",
    "end=10\n",
    "for page in range(start,end):\n",
    "    com=driver.find_elements(By.XPATH,'//div[@class=\"tags\"]')\n",
    "    for i in com:\n",
    "        tag.append(i.text)\n",
    "\n",
    "# next button        \n",
    "start=0\n",
    "end=9\n",
    "for page in range(start,end):    \n",
    "    next_button=driver.find_element(By.XPATH,'(//li[@class=\"next\"])[2]')\n",
    "    next_button.click()\n",
    "    time.sleep(5)\n"
   ]
  },
  {
   "cell_type": "code",
   "execution_count": 295,
   "id": "f237bd27",
   "metadata": {},
   "outputs": [
    {
     "data": {
      "text/plain": [
       "(1000, 1000, 1000)"
      ]
     },
     "execution_count": 295,
     "metadata": {},
     "output_type": "execute_result"
    }
   ],
   "source": [
    "len(title_tag),len(author_summ),len(tag)"
   ]
  },
  {
   "cell_type": "code",
   "execution_count": 296,
   "id": "11537610",
   "metadata": {},
   "outputs": [
    {
     "data": {
      "text/html": [
       "<div>\n",
       "<style scoped>\n",
       "    .dataframe tbody tr th:only-of-type {\n",
       "        vertical-align: middle;\n",
       "    }\n",
       "\n",
       "    .dataframe tbody tr th {\n",
       "        vertical-align: top;\n",
       "    }\n",
       "\n",
       "    .dataframe thead th {\n",
       "        text-align: right;\n",
       "    }\n",
       "</style>\n",
       "<table border=\"1\" class=\"dataframe\">\n",
       "  <thead>\n",
       "    <tr style=\"text-align: right;\">\n",
       "      <th></th>\n",
       "      <th>Quote</th>\n",
       "      <th>Author</th>\n",
       "      <th>Type Of Quote</th>\n",
       "    </tr>\n",
       "  </thead>\n",
       "  <tbody>\n",
       "    <tr>\n",
       "      <th>0</th>\n",
       "      <td>The essence of strategy is choosing what not t...</td>\n",
       "      <td>Michael Porter</td>\n",
       "      <td>Essence, Deep Thought, Transcendentalism</td>\n",
       "    </tr>\n",
       "    <tr>\n",
       "      <th>1</th>\n",
       "      <td>One cannot and must not try to erase the past ...</td>\n",
       "      <td>Golda Meir</td>\n",
       "      <td>Inspiration, Past, Trying</td>\n",
       "    </tr>\n",
       "    <tr>\n",
       "      <th>2</th>\n",
       "      <td>Patriotism means to stand by the country. It d...</td>\n",
       "      <td>Theodore Roosevelt</td>\n",
       "      <td>Country, Peace, War</td>\n",
       "    </tr>\n",
       "    <tr>\n",
       "      <th>3</th>\n",
       "      <td>Death is something inevitable. When a man has ...</td>\n",
       "      <td>Nelson Mandela</td>\n",
       "      <td>Inspirational, Motivational, Death</td>\n",
       "    </tr>\n",
       "    <tr>\n",
       "      <th>4</th>\n",
       "      <td>You have to love a nation that celebrates its ...</td>\n",
       "      <td>Erma Bombeck</td>\n",
       "      <td>4th Of July, Food, Patriotic</td>\n",
       "    </tr>\n",
       "    <tr>\n",
       "      <th>...</th>\n",
       "      <td>...</td>\n",
       "      <td>...</td>\n",
       "      <td>...</td>\n",
       "    </tr>\n",
       "    <tr>\n",
       "      <th>995</th>\n",
       "      <td>When the going gets weird, the weird turn pro.</td>\n",
       "      <td>Hunter S. Thompson</td>\n",
       "      <td>Music, Sports, Hunting</td>\n",
       "    </tr>\n",
       "    <tr>\n",
       "      <th>996</th>\n",
       "      <td>When a train goes through a tunnel and it gets...</td>\n",
       "      <td>Corrie Ten Boom</td>\n",
       "      <td>Trust, Encouraging, Uplifting</td>\n",
       "    </tr>\n",
       "    <tr>\n",
       "      <th>997</th>\n",
       "      <td>God doesn't require us to succeed, he only req...</td>\n",
       "      <td>Mother Teresa</td>\n",
       "      <td>Success, God, Mother</td>\n",
       "    </tr>\n",
       "    <tr>\n",
       "      <th>998</th>\n",
       "      <td>If you think you are too small to make a diffe...</td>\n",
       "      <td>Dalai Lama</td>\n",
       "      <td>Inspirational, Funny, Change</td>\n",
       "    </tr>\n",
       "    <tr>\n",
       "      <th>999</th>\n",
       "      <td>Change your thoughts and you change your world.</td>\n",
       "      <td>Norman Vincent Peale</td>\n",
       "      <td>Inspirational, Motivational, Change</td>\n",
       "    </tr>\n",
       "  </tbody>\n",
       "</table>\n",
       "<p>1000 rows × 3 columns</p>\n",
       "</div>"
      ],
      "text/plain": [
       "                                                 Quote                Author  \\\n",
       "0    The essence of strategy is choosing what not t...        Michael Porter   \n",
       "1    One cannot and must not try to erase the past ...            Golda Meir   \n",
       "2    Patriotism means to stand by the country. It d...    Theodore Roosevelt   \n",
       "3    Death is something inevitable. When a man has ...        Nelson Mandela   \n",
       "4    You have to love a nation that celebrates its ...          Erma Bombeck   \n",
       "..                                                 ...                   ...   \n",
       "995     When the going gets weird, the weird turn pro.    Hunter S. Thompson   \n",
       "996  When a train goes through a tunnel and it gets...       Corrie Ten Boom   \n",
       "997  God doesn't require us to succeed, he only req...         Mother Teresa   \n",
       "998  If you think you are too small to make a diffe...            Dalai Lama   \n",
       "999    Change your thoughts and you change your world.  Norman Vincent Peale   \n",
       "\n",
       "                                Type Of Quote  \n",
       "0    Essence, Deep Thought, Transcendentalism  \n",
       "1                   Inspiration, Past, Trying  \n",
       "2                         Country, Peace, War  \n",
       "3          Inspirational, Motivational, Death  \n",
       "4                4th Of July, Food, Patriotic  \n",
       "..                                        ...  \n",
       "995                    Music, Sports, Hunting  \n",
       "996             Trust, Encouraging, Uplifting  \n",
       "997                      Success, God, Mother  \n",
       "998              Inspirational, Funny, Change  \n",
       "999       Inspirational, Motivational, Change  \n",
       "\n",
       "[1000 rows x 3 columns]"
      ]
     },
     "execution_count": 296,
     "metadata": {},
     "output_type": "execute_result"
    }
   ],
   "source": [
    "#createing dataframe\n",
    "df=pd.DataFrame({'Quote':title_tag,'Author':author_summ,'Type Of Quote':tag})\n",
    "df"
   ]
  },
  {
   "cell_type": "markdown",
   "id": "19b839e8",
   "metadata": {},
   "source": [
    "## Q10: Write s python program to display list of respected former Prime Ministers of India(i.e. Name, Born-Dead, Term of office, Remarks) from https://www.jagranjosh.com/."
   ]
  },
  {
   "cell_type": "code",
   "execution_count": 298,
   "id": "60b8c85c",
   "metadata": {},
   "outputs": [],
   "source": [
    "#open the link \n",
    "url='https://www.jagranjosh.com/'\n",
    "driver.get(url)"
   ]
  },
  {
   "cell_type": "code",
   "execution_count": 299,
   "id": "8297367a",
   "metadata": {},
   "outputs": [],
   "source": [
    "#filter\n",
    "filter_btn=driver.find_element(By.XPATH,'(//a[@href=\"/general-knowledge?ref=nav_dd\"])[2]')\n",
    "filter_btn.click()"
   ]
  },
  {
   "cell_type": "code",
   "execution_count": 300,
   "id": "87ca7473",
   "metadata": {},
   "outputs": [],
   "source": [
    "#filter\n",
    "filter_btn=driver.find_element(By.XPATH,'//a[@href=\"https://www.jagranjosh.com/general-knowledge/list-of-all-prime-ministers-of-india-1473165149-1\"]')\n",
    "filter_btn.click()"
   ]
  },
  {
   "cell_type": "code",
   "execution_count": 301,
   "id": "c132e129",
   "metadata": {},
   "outputs": [],
   "source": [
    "#name\n",
    "Name=[]\n",
    "names = driver.find_elements(By.XPATH,'//div[@class=\"table-box\"]/table/tbody/tr/td[2]/p')\n",
    "\n",
    "for name in names:\n",
    "\n",
    "    Name.append(name.text)"
   ]
  },
  {
   "cell_type": "code",
   "execution_count": 302,
   "id": "81feb890",
   "metadata": {},
   "outputs": [],
   "source": [
    "#born-dead\n",
    "bo_de=[]\n",
    "names = driver.find_elements(By.XPATH,'//div[@class=\"table-box\"]/table/tbody/tr/td[3]/p')\n",
    "\n",
    "for name in names:\n",
    "\n",
    "    bo_de.append(name.text)"
   ]
  },
  {
   "cell_type": "code",
   "execution_count": 303,
   "id": "763563ac",
   "metadata": {},
   "outputs": [],
   "source": [
    "# Term of office\n",
    "term=[]\n",
    "names = driver.find_elements(By.XPATH,'//div[@class=\"table-box\"]/table/tbody/tr/td[4]/p')\n",
    "\n",
    "for name in names:\n",
    "\n",
    "    term.append(name.text)"
   ]
  },
  {
   "cell_type": "code",
   "execution_count": 304,
   "id": "c43a19d4",
   "metadata": {},
   "outputs": [],
   "source": [
    "#remark\n",
    "remark=[]\n",
    "names = driver.find_elements(By.XPATH,'//div[@class=\"table-box\"]/table/tbody/tr/td[5]/p')\n",
    "\n",
    "for name in names:\n",
    "\n",
    "    remark.append(name.text)"
   ]
  },
  {
   "cell_type": "code",
   "execution_count": 305,
   "id": "9bd99a18",
   "metadata": {},
   "outputs": [
    {
     "data": {
      "text/html": [
       "<div>\n",
       "<style scoped>\n",
       "    .dataframe tbody tr th:only-of-type {\n",
       "        vertical-align: middle;\n",
       "    }\n",
       "\n",
       "    .dataframe tbody tr th {\n",
       "        vertical-align: top;\n",
       "    }\n",
       "\n",
       "    .dataframe thead th {\n",
       "        text-align: right;\n",
       "    }\n",
       "</style>\n",
       "<table border=\"1\" class=\"dataframe\">\n",
       "  <thead>\n",
       "    <tr style=\"text-align: right;\">\n",
       "      <th></th>\n",
       "      <th>Name</th>\n",
       "      <th>Born-Dead</th>\n",
       "      <th>Remarks</th>\n",
       "    </tr>\n",
       "  </thead>\n",
       "  <tbody>\n",
       "    <tr>\n",
       "      <th>0</th>\n",
       "      <td>Jawahar Lal Nehru</td>\n",
       "      <td>(1889–1964)</td>\n",
       "      <td>The first prime minister of India and the long...</td>\n",
       "    </tr>\n",
       "    <tr>\n",
       "      <th>1</th>\n",
       "      <td>Gulzarilal Nanda (Acting)</td>\n",
       "      <td>(1898-1998)</td>\n",
       "      <td>First acting PM of India</td>\n",
       "    </tr>\n",
       "    <tr>\n",
       "      <th>2</th>\n",
       "      <td>Lal Bahadur Shastri</td>\n",
       "      <td>(1904–1966)</td>\n",
       "      <td>He has given the slogan of 'Jai Jawan Jai Kisa...</td>\n",
       "    </tr>\n",
       "    <tr>\n",
       "      <th>3</th>\n",
       "      <td>Gulzari Lal Nanda  (Acting)</td>\n",
       "      <td>(1898-1998)</td>\n",
       "      <td>-</td>\n",
       "    </tr>\n",
       "    <tr>\n",
       "      <th>4</th>\n",
       "      <td>Indira Gandhi</td>\n",
       "      <td>(1917–1984)</td>\n",
       "      <td>First female Prime Minister of India</td>\n",
       "    </tr>\n",
       "    <tr>\n",
       "      <th>5</th>\n",
       "      <td>Morarji Desai</td>\n",
       "      <td>(1896–1995)</td>\n",
       "      <td>Oldest to become PM (81 years old) and first t...</td>\n",
       "    </tr>\n",
       "    <tr>\n",
       "      <th>6</th>\n",
       "      <td>Charan Singh</td>\n",
       "      <td>(1902–1987)</td>\n",
       "      <td>Only PM who did not face the Parliament</td>\n",
       "    </tr>\n",
       "    <tr>\n",
       "      <th>7</th>\n",
       "      <td>Indira Gandhi</td>\n",
       "      <td>(1917–1984)</td>\n",
       "      <td>The first lady who served as PM for the second...</td>\n",
       "    </tr>\n",
       "    <tr>\n",
       "      <th>8</th>\n",
       "      <td>Rajiv Gandhi</td>\n",
       "      <td>(1944–1991)</td>\n",
       "      <td>Youngest to become PM (40 years old)</td>\n",
       "    </tr>\n",
       "    <tr>\n",
       "      <th>9</th>\n",
       "      <td>V. P. Singh</td>\n",
       "      <td>(1931–2008)</td>\n",
       "      <td>First PM to step down after a vote of no confi...</td>\n",
       "    </tr>\n",
       "    <tr>\n",
       "      <th>10</th>\n",
       "      <td>Chandra Shekhar</td>\n",
       "      <td>(1927–2007)</td>\n",
       "      <td>He belongs to  Samajwadi Janata Party</td>\n",
       "    </tr>\n",
       "    <tr>\n",
       "      <th>11</th>\n",
       "      <td>P. V. Narasimha Rao</td>\n",
       "      <td>(1921–2004)</td>\n",
       "      <td>First PM from south India</td>\n",
       "    </tr>\n",
       "    <tr>\n",
       "      <th>12</th>\n",
       "      <td>Atal Bihari Vajpayee</td>\n",
       "      <td>(1924- 2018)</td>\n",
       "      <td>PM for shortest tenure</td>\n",
       "    </tr>\n",
       "    <tr>\n",
       "      <th>13</th>\n",
       "      <td>H. D. Deve Gowda</td>\n",
       "      <td>(born 1933)</td>\n",
       "      <td>He belongs to  Janata Dal</td>\n",
       "    </tr>\n",
       "    <tr>\n",
       "      <th>14</th>\n",
       "      <td>Inder Kumar Gujral</td>\n",
       "      <td>(1919–2012)</td>\n",
       "      <td>------</td>\n",
       "    </tr>\n",
       "    <tr>\n",
       "      <th>15</th>\n",
       "      <td>Atal Bihari Vajpayee</td>\n",
       "      <td>(1924-2018)</td>\n",
       "      <td>The first non-congress PM who completed a ful...</td>\n",
       "    </tr>\n",
       "    <tr>\n",
       "      <th>16</th>\n",
       "      <td>Manmohan Singh</td>\n",
       "      <td>(born 1932)</td>\n",
       "      <td>First Sikh PM</td>\n",
       "    </tr>\n",
       "    <tr>\n",
       "      <th>17</th>\n",
       "      <td>Narendra Modi</td>\n",
       "      <td>(born 1950)</td>\n",
       "      <td>4th Prime Minister of India who served two con...</td>\n",
       "    </tr>\n",
       "  </tbody>\n",
       "</table>\n",
       "</div>"
      ],
      "text/plain": [
       "                           Name     Born-Dead  \\\n",
       "0             Jawahar Lal Nehru   (1889–1964)   \n",
       "1     Gulzarilal Nanda (Acting)   (1898-1998)   \n",
       "2           Lal Bahadur Shastri   (1904–1966)   \n",
       "3   Gulzari Lal Nanda  (Acting)   (1898-1998)   \n",
       "4                 Indira Gandhi   (1917–1984)   \n",
       "5                 Morarji Desai   (1896–1995)   \n",
       "6                  Charan Singh   (1902–1987)   \n",
       "7                 Indira Gandhi   (1917–1984)   \n",
       "8                  Rajiv Gandhi   (1944–1991)   \n",
       "9                   V. P. Singh   (1931–2008)   \n",
       "10              Chandra Shekhar   (1927–2007)   \n",
       "11          P. V. Narasimha Rao   (1921–2004)   \n",
       "12         Atal Bihari Vajpayee  (1924- 2018)   \n",
       "13             H. D. Deve Gowda   (born 1933)   \n",
       "14           Inder Kumar Gujral   (1919–2012)   \n",
       "15         Atal Bihari Vajpayee   (1924-2018)   \n",
       "16               Manmohan Singh   (born 1932)   \n",
       "17                Narendra Modi   (born 1950)   \n",
       "\n",
       "                                              Remarks  \n",
       "0   The first prime minister of India and the long...  \n",
       "1                            First acting PM of India  \n",
       "2   He has given the slogan of 'Jai Jawan Jai Kisa...  \n",
       "3                                                   -  \n",
       "4                First female Prime Minister of India  \n",
       "5   Oldest to become PM (81 years old) and first t...  \n",
       "6             Only PM who did not face the Parliament  \n",
       "7   The first lady who served as PM for the second...  \n",
       "8                Youngest to become PM (40 years old)  \n",
       "9   First PM to step down after a vote of no confi...  \n",
       "10              He belongs to  Samajwadi Janata Party  \n",
       "11                          First PM from south India  \n",
       "12                             PM for shortest tenure  \n",
       "13                          He belongs to  Janata Dal  \n",
       "14                                             ------  \n",
       "15   The first non-congress PM who completed a ful...  \n",
       "16                                      First Sikh PM  \n",
       "17  4th Prime Minister of India who served two con...  "
      ]
     },
     "execution_count": 305,
     "metadata": {},
     "output_type": "execute_result"
    }
   ],
   "source": [
    "#creating dataframe\n",
    "df=pd.DataFrame({'Name':Name,'Born-Dead':bo_de,'Remarks':remark})\n",
    "df"
   ]
  },
  {
   "cell_type": "markdown",
   "id": "f2311be9",
   "metadata": {},
   "source": [
    "## Q11: Write s python program to display list of 50 Most expensive cars in the world (i.e. Company name, Model name and Price) from https://www.motor1.com/"
   ]
  },
  {
   "cell_type": "code",
   "execution_count": 307,
   "id": "02bc3e18",
   "metadata": {},
   "outputs": [],
   "source": [
    "#open the link \n",
    "url='https://www.motor1.com/'\n",
    "driver.get(url)"
   ]
  },
  {
   "cell_type": "code",
   "execution_count": 309,
   "id": "edd8163a",
   "metadata": {},
   "outputs": [],
   "source": [
    "#filter \n",
    "filter_btn=driver.find_element(By.XPATH,'//div[@class=\"m1-hamburger-button\"]')\n",
    "filter_btn.click()"
   ]
  },
  {
   "cell_type": "code",
   "execution_count": 310,
   "id": "c3034cf9",
   "metadata": {},
   "outputs": [],
   "source": [
    "#filter \n",
    "filter_btn=driver.find_element(By.XPATH,'(//a[@href=\"/features/category/lists/\"])[2]')\n",
    "filter_btn.click()"
   ]
  },
  {
   "cell_type": "code",
   "execution_count": 311,
   "id": "87eb20b6",
   "metadata": {},
   "outputs": [],
   "source": [
    "#filter\n",
    "filter_btn=driver.find_element(By.XPATH,'(//a[@href=\"/features/308149/most-expensive-new-cars-ever/\"])[2]')\n",
    "filter_btn.click()\n"
   ]
  },
  {
   "cell_type": "code",
   "execution_count": 312,
   "id": "716d084b",
   "metadata": {},
   "outputs": [],
   "source": [
    "# scrapping 50 company name with price\n",
    "car_price=[]\n",
    "comp_tags=driver.find_elements(By.XPATH,'/html/body/div[2]/div[7]/div[2]/div[1]/div[2]/div[1]/ul')\n",
    "for i in comp_tags[0:50]:\n",
    "    car_price.append(i.text)"
   ]
  },
  {
   "cell_type": "code",
   "execution_count": 313,
   "id": "80663d40",
   "metadata": {},
   "outputs": [
    {
     "name": "stdout",
     "output_type": "stream",
     "text": [
      "List of all Car Company with Price :\n",
      "\n",
      "Drako GTE - $1.2 Million\n",
      "DeTomaso P72: $1.3 Million\n",
      "Ferrari LaFerrari - $1.4 Million\n",
      "Pagani Huayra - $1.4 Million\n",
      "Czinger 21C - $1.7 Million\n",
      "Ferrari Monza - $1.7 Million\n",
      "Gordon Murray T.33 - $1.7 Million\n",
      "Koenigsegg Gemera - $1.7 Million\n",
      "McLaren Elva - $1.7 Million\n",
      "Zenvo TSR-S - $1.7 Million\n",
      "Hennessey Venom F5 - $1.8 Million\n",
      "Bentley Bacalar - $1.9 Million\n",
      "Hispano Suiza Carmen Boulogne: $1.9 Million\n",
      "Bentley Mulliner Batur: $2.0 Million\n",
      "Deus Vayanne: $2.0 Million\n",
      "SSC Tuatara - $2.0 Million*\n",
      "Lotus Evija - $2.1 Million\n",
      "Aston Martin Vulcan - $2.3 Million\n",
      "Delage D12: $2.3 Million\n",
      "McLaren Speedtail - $2.3 Million\n",
      "Rimac Nevera - $2.4 Million\n",
      "Pagani Utopia: $2.5 Million\n",
      "Pininfarina Battista - $2.5 Million\n",
      "Ferrari FXX K Evo - $2.6 Million\n",
      "Gordon Murray T.50 - $2.6 Million\n",
      "Lamborghini Countach - $2.6 Million\n",
      "Mercedes-AMG Project One - $2.7 Million\n",
      "Aston Martin Victor - $3.0 Million\n",
      "Hennessey Venom F5 Roadster: $3.0 Million\n",
      "Koenigsegg Jesko - $3.0 Million\n",
      "Aston Martin Valkyrie - $3.2 Million\n",
      "W Motors Lykan Hypersport - $3.4 Million\n",
      "McLaren Solus: $3.5 Million\n",
      "Pagani Huayra Roadster BC - $3.5 Million\n",
      "Bugatti Chiron Pur Sport - $3.6 Million\n",
      "Lamborghini Sian - $3.6 million\n",
      "Koenigsegg CC850: $3.7 Million\n",
      "Bugatti Chiron Super Sport 300+ - $3.9 Million\n",
      "Lamborghini Veneno - $4.5 Million\n",
      "Bugatti Bolide - $4.7 Million\n",
      "Bugatti Mistral: $5.0 Million\n",
      "Pagani Huayra Imola: $5.4 Million\n",
      "Bugatti Divo - $5.8 Million\n",
      "SP Automotive Chaos - $6.4 Million\n",
      "Pagani Codalunga: $7.4 Million\n",
      "Mercedes-Maybach Exelero - $8.0 Million\n",
      "Bugatti Centodieci - $9.0 Million\n",
      "Rolls-Royce Sweptail - $12.8 Million\n",
      "Bugatti La Voiture Noire - $13.4 Million\n",
      "Rolls-Royce Boat Tail - $28.0 Million*\n"
     ]
    }
   ],
   "source": [
    "print('List of all Car Company with Price :',*car_price, sep='\\n\\n' )"
   ]
  },
  {
   "cell_type": "code",
   "execution_count": null,
   "id": "38873a4d",
   "metadata": {},
   "outputs": [],
   "source": []
  }
 ],
 "metadata": {
  "kernelspec": {
   "display_name": "Python 3 (ipykernel)",
   "language": "python",
   "name": "python3"
  },
  "language_info": {
   "codemirror_mode": {
    "name": "ipython",
    "version": 3
   },
   "file_extension": ".py",
   "mimetype": "text/x-python",
   "name": "python",
   "nbconvert_exporter": "python",
   "pygments_lexer": "ipython3",
   "version": "3.9.12"
  }
 },
 "nbformat": 4,
 "nbformat_minor": 5
}
